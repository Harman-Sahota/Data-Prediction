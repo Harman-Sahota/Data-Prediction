{
 "cells": [
  {
   "cell_type": "code",
   "execution_count": 1,
   "id": "fd4bf4da",
   "metadata": {},
   "outputs": [
    {
     "ename": "ModuleNotFoundError",
     "evalue": "No module named 'seaborn'",
     "output_type": "error",
     "traceback": [
      "\u001b[0;31m---------------------------------------------------------------------------\u001b[0m",
      "\u001b[0;31mModuleNotFoundError\u001b[0m                       Traceback (most recent call last)",
      "Input \u001b[0;32mIn [1]\u001b[0m, in \u001b[0;36m<cell line: 3>\u001b[0;34m()\u001b[0m\n\u001b[1;32m      1\u001b[0m \u001b[38;5;66;03m#installing dependencies\u001b[39;00m\n\u001b[1;32m      2\u001b[0m \u001b[38;5;28;01mimport\u001b[39;00m \u001b[38;5;21;01mpandas\u001b[39;00m \u001b[38;5;28;01mas\u001b[39;00m \u001b[38;5;21;01mpd\u001b[39;00m\n\u001b[0;32m----> 3\u001b[0m \u001b[38;5;28;01mimport\u001b[39;00m \u001b[38;5;21;01mseaborn\u001b[39;00m \u001b[38;5;28;01mas\u001b[39;00m \u001b[38;5;21;01msns\u001b[39;00m\n\u001b[1;32m      4\u001b[0m \u001b[38;5;28;01mimport\u001b[39;00m \u001b[38;5;21;01mnumpy\u001b[39;00m \u001b[38;5;28;01mas\u001b[39;00m \u001b[38;5;21;01mnp\u001b[39;00m\n",
      "\u001b[0;31mModuleNotFoundError\u001b[0m: No module named 'seaborn'"
     ]
    }
   ],
   "source": [
    "#installing dependencies\n",
    "import pandas as pd\n",
    "import seaborn as sns\n",
    "import numpy as np"
   ]
  },
  {
   "cell_type": "code",
   "execution_count": 2,
   "id": "85c87dc1",
   "metadata": {},
   "outputs": [
    {
     "ename": "FileNotFoundError",
     "evalue": "[Errno 2] No such file or directory: '/Users/harmansahota/Desktop/life/prediction/japan-earthquakes-data'",
     "output_type": "error",
     "traceback": [
      "\u001b[0;31m---------------------------------------------------------------------------\u001b[0m",
      "\u001b[0;31mFileNotFoundError\u001b[0m                         Traceback (most recent call last)",
      "Input \u001b[0;32mIn [2]\u001b[0m, in \u001b[0;36m<cell line: 1>\u001b[0;34m()\u001b[0m\n\u001b[0;32m----> 1\u001b[0m data \u001b[38;5;241m=\u001b[39m \u001b[43mpd\u001b[49m\u001b[38;5;241;43m.\u001b[39;49m\u001b[43mread_csv\u001b[49m\u001b[43m(\u001b[49m\u001b[38;5;124;43m\"\u001b[39;49m\u001b[38;5;124;43m/Users/harmansahota/Desktop/life/prediction/japan-earthquakes-data\u001b[39;49m\u001b[38;5;124;43m\"\u001b[39;49m\u001b[43m)\u001b[49m\n",
      "File \u001b[0;32m/opt/homebrew/lib/python3.9/site-packages/pandas/util/_decorators.py:311\u001b[0m, in \u001b[0;36mdeprecate_nonkeyword_arguments.<locals>.decorate.<locals>.wrapper\u001b[0;34m(*args, **kwargs)\u001b[0m\n\u001b[1;32m    305\u001b[0m \u001b[38;5;28;01mif\u001b[39;00m \u001b[38;5;28mlen\u001b[39m(args) \u001b[38;5;241m>\u001b[39m num_allow_args:\n\u001b[1;32m    306\u001b[0m     warnings\u001b[38;5;241m.\u001b[39mwarn(\n\u001b[1;32m    307\u001b[0m         msg\u001b[38;5;241m.\u001b[39mformat(arguments\u001b[38;5;241m=\u001b[39marguments),\n\u001b[1;32m    308\u001b[0m         \u001b[38;5;167;01mFutureWarning\u001b[39;00m,\n\u001b[1;32m    309\u001b[0m         stacklevel\u001b[38;5;241m=\u001b[39mstacklevel,\n\u001b[1;32m    310\u001b[0m     )\n\u001b[0;32m--> 311\u001b[0m \u001b[38;5;28;01mreturn\u001b[39;00m \u001b[43mfunc\u001b[49m\u001b[43m(\u001b[49m\u001b[38;5;241;43m*\u001b[39;49m\u001b[43margs\u001b[49m\u001b[43m,\u001b[49m\u001b[43m \u001b[49m\u001b[38;5;241;43m*\u001b[39;49m\u001b[38;5;241;43m*\u001b[39;49m\u001b[43mkwargs\u001b[49m\u001b[43m)\u001b[49m\n",
      "File \u001b[0;32m/opt/homebrew/lib/python3.9/site-packages/pandas/io/parsers/readers.py:680\u001b[0m, in \u001b[0;36mread_csv\u001b[0;34m(filepath_or_buffer, sep, delimiter, header, names, index_col, usecols, squeeze, prefix, mangle_dupe_cols, dtype, engine, converters, true_values, false_values, skipinitialspace, skiprows, skipfooter, nrows, na_values, keep_default_na, na_filter, verbose, skip_blank_lines, parse_dates, infer_datetime_format, keep_date_col, date_parser, dayfirst, cache_dates, iterator, chunksize, compression, thousands, decimal, lineterminator, quotechar, quoting, doublequote, escapechar, comment, encoding, encoding_errors, dialect, error_bad_lines, warn_bad_lines, on_bad_lines, delim_whitespace, low_memory, memory_map, float_precision, storage_options)\u001b[0m\n\u001b[1;32m    665\u001b[0m kwds_defaults \u001b[38;5;241m=\u001b[39m _refine_defaults_read(\n\u001b[1;32m    666\u001b[0m     dialect,\n\u001b[1;32m    667\u001b[0m     delimiter,\n\u001b[0;32m   (...)\u001b[0m\n\u001b[1;32m    676\u001b[0m     defaults\u001b[38;5;241m=\u001b[39m{\u001b[38;5;124m\"\u001b[39m\u001b[38;5;124mdelimiter\u001b[39m\u001b[38;5;124m\"\u001b[39m: \u001b[38;5;124m\"\u001b[39m\u001b[38;5;124m,\u001b[39m\u001b[38;5;124m\"\u001b[39m},\n\u001b[1;32m    677\u001b[0m )\n\u001b[1;32m    678\u001b[0m kwds\u001b[38;5;241m.\u001b[39mupdate(kwds_defaults)\n\u001b[0;32m--> 680\u001b[0m \u001b[38;5;28;01mreturn\u001b[39;00m \u001b[43m_read\u001b[49m\u001b[43m(\u001b[49m\u001b[43mfilepath_or_buffer\u001b[49m\u001b[43m,\u001b[49m\u001b[43m \u001b[49m\u001b[43mkwds\u001b[49m\u001b[43m)\u001b[49m\n",
      "File \u001b[0;32m/opt/homebrew/lib/python3.9/site-packages/pandas/io/parsers/readers.py:575\u001b[0m, in \u001b[0;36m_read\u001b[0;34m(filepath_or_buffer, kwds)\u001b[0m\n\u001b[1;32m    572\u001b[0m _validate_names(kwds\u001b[38;5;241m.\u001b[39mget(\u001b[38;5;124m\"\u001b[39m\u001b[38;5;124mnames\u001b[39m\u001b[38;5;124m\"\u001b[39m, \u001b[38;5;28;01mNone\u001b[39;00m))\n\u001b[1;32m    574\u001b[0m \u001b[38;5;66;03m# Create the parser.\u001b[39;00m\n\u001b[0;32m--> 575\u001b[0m parser \u001b[38;5;241m=\u001b[39m \u001b[43mTextFileReader\u001b[49m\u001b[43m(\u001b[49m\u001b[43mfilepath_or_buffer\u001b[49m\u001b[43m,\u001b[49m\u001b[43m \u001b[49m\u001b[38;5;241;43m*\u001b[39;49m\u001b[38;5;241;43m*\u001b[39;49m\u001b[43mkwds\u001b[49m\u001b[43m)\u001b[49m\n\u001b[1;32m    577\u001b[0m \u001b[38;5;28;01mif\u001b[39;00m chunksize \u001b[38;5;129;01mor\u001b[39;00m iterator:\n\u001b[1;32m    578\u001b[0m     \u001b[38;5;28;01mreturn\u001b[39;00m parser\n",
      "File \u001b[0;32m/opt/homebrew/lib/python3.9/site-packages/pandas/io/parsers/readers.py:933\u001b[0m, in \u001b[0;36mTextFileReader.__init__\u001b[0;34m(self, f, engine, **kwds)\u001b[0m\n\u001b[1;32m    930\u001b[0m     \u001b[38;5;28mself\u001b[39m\u001b[38;5;241m.\u001b[39moptions[\u001b[38;5;124m\"\u001b[39m\u001b[38;5;124mhas_index_names\u001b[39m\u001b[38;5;124m\"\u001b[39m] \u001b[38;5;241m=\u001b[39m kwds[\u001b[38;5;124m\"\u001b[39m\u001b[38;5;124mhas_index_names\u001b[39m\u001b[38;5;124m\"\u001b[39m]\n\u001b[1;32m    932\u001b[0m \u001b[38;5;28mself\u001b[39m\u001b[38;5;241m.\u001b[39mhandles: IOHandles \u001b[38;5;241m|\u001b[39m \u001b[38;5;28;01mNone\u001b[39;00m \u001b[38;5;241m=\u001b[39m \u001b[38;5;28;01mNone\u001b[39;00m\n\u001b[0;32m--> 933\u001b[0m \u001b[38;5;28mself\u001b[39m\u001b[38;5;241m.\u001b[39m_engine \u001b[38;5;241m=\u001b[39m \u001b[38;5;28;43mself\u001b[39;49m\u001b[38;5;241;43m.\u001b[39;49m\u001b[43m_make_engine\u001b[49m\u001b[43m(\u001b[49m\u001b[43mf\u001b[49m\u001b[43m,\u001b[49m\u001b[43m \u001b[49m\u001b[38;5;28;43mself\u001b[39;49m\u001b[38;5;241;43m.\u001b[39;49m\u001b[43mengine\u001b[49m\u001b[43m)\u001b[49m\n",
      "File \u001b[0;32m/opt/homebrew/lib/python3.9/site-packages/pandas/io/parsers/readers.py:1217\u001b[0m, in \u001b[0;36mTextFileReader._make_engine\u001b[0;34m(self, f, engine)\u001b[0m\n\u001b[1;32m   1213\u001b[0m     mode \u001b[38;5;241m=\u001b[39m \u001b[38;5;124m\"\u001b[39m\u001b[38;5;124mrb\u001b[39m\u001b[38;5;124m\"\u001b[39m\n\u001b[1;32m   1214\u001b[0m \u001b[38;5;66;03m# error: No overload variant of \"get_handle\" matches argument types\u001b[39;00m\n\u001b[1;32m   1215\u001b[0m \u001b[38;5;66;03m# \"Union[str, PathLike[str], ReadCsvBuffer[bytes], ReadCsvBuffer[str]]\"\u001b[39;00m\n\u001b[1;32m   1216\u001b[0m \u001b[38;5;66;03m# , \"str\", \"bool\", \"Any\", \"Any\", \"Any\", \"Any\", \"Any\"\u001b[39;00m\n\u001b[0;32m-> 1217\u001b[0m \u001b[38;5;28mself\u001b[39m\u001b[38;5;241m.\u001b[39mhandles \u001b[38;5;241m=\u001b[39m \u001b[43mget_handle\u001b[49m\u001b[43m(\u001b[49m\u001b[43m  \u001b[49m\u001b[38;5;66;43;03m# type: ignore[call-overload]\u001b[39;49;00m\n\u001b[1;32m   1218\u001b[0m \u001b[43m    \u001b[49m\u001b[43mf\u001b[49m\u001b[43m,\u001b[49m\n\u001b[1;32m   1219\u001b[0m \u001b[43m    \u001b[49m\u001b[43mmode\u001b[49m\u001b[43m,\u001b[49m\n\u001b[1;32m   1220\u001b[0m \u001b[43m    \u001b[49m\u001b[43mencoding\u001b[49m\u001b[38;5;241;43m=\u001b[39;49m\u001b[38;5;28;43mself\u001b[39;49m\u001b[38;5;241;43m.\u001b[39;49m\u001b[43moptions\u001b[49m\u001b[38;5;241;43m.\u001b[39;49m\u001b[43mget\u001b[49m\u001b[43m(\u001b[49m\u001b[38;5;124;43m\"\u001b[39;49m\u001b[38;5;124;43mencoding\u001b[39;49m\u001b[38;5;124;43m\"\u001b[39;49m\u001b[43m,\u001b[49m\u001b[43m \u001b[49m\u001b[38;5;28;43;01mNone\u001b[39;49;00m\u001b[43m)\u001b[49m\u001b[43m,\u001b[49m\n\u001b[1;32m   1221\u001b[0m \u001b[43m    \u001b[49m\u001b[43mcompression\u001b[49m\u001b[38;5;241;43m=\u001b[39;49m\u001b[38;5;28;43mself\u001b[39;49m\u001b[38;5;241;43m.\u001b[39;49m\u001b[43moptions\u001b[49m\u001b[38;5;241;43m.\u001b[39;49m\u001b[43mget\u001b[49m\u001b[43m(\u001b[49m\u001b[38;5;124;43m\"\u001b[39;49m\u001b[38;5;124;43mcompression\u001b[39;49m\u001b[38;5;124;43m\"\u001b[39;49m\u001b[43m,\u001b[49m\u001b[43m \u001b[49m\u001b[38;5;28;43;01mNone\u001b[39;49;00m\u001b[43m)\u001b[49m\u001b[43m,\u001b[49m\n\u001b[1;32m   1222\u001b[0m \u001b[43m    \u001b[49m\u001b[43mmemory_map\u001b[49m\u001b[38;5;241;43m=\u001b[39;49m\u001b[38;5;28;43mself\u001b[39;49m\u001b[38;5;241;43m.\u001b[39;49m\u001b[43moptions\u001b[49m\u001b[38;5;241;43m.\u001b[39;49m\u001b[43mget\u001b[49m\u001b[43m(\u001b[49m\u001b[38;5;124;43m\"\u001b[39;49m\u001b[38;5;124;43mmemory_map\u001b[39;49m\u001b[38;5;124;43m\"\u001b[39;49m\u001b[43m,\u001b[49m\u001b[43m \u001b[49m\u001b[38;5;28;43;01mFalse\u001b[39;49;00m\u001b[43m)\u001b[49m\u001b[43m,\u001b[49m\n\u001b[1;32m   1223\u001b[0m \u001b[43m    \u001b[49m\u001b[43mis_text\u001b[49m\u001b[38;5;241;43m=\u001b[39;49m\u001b[43mis_text\u001b[49m\u001b[43m,\u001b[49m\n\u001b[1;32m   1224\u001b[0m \u001b[43m    \u001b[49m\u001b[43merrors\u001b[49m\u001b[38;5;241;43m=\u001b[39;49m\u001b[38;5;28;43mself\u001b[39;49m\u001b[38;5;241;43m.\u001b[39;49m\u001b[43moptions\u001b[49m\u001b[38;5;241;43m.\u001b[39;49m\u001b[43mget\u001b[49m\u001b[43m(\u001b[49m\u001b[38;5;124;43m\"\u001b[39;49m\u001b[38;5;124;43mencoding_errors\u001b[39;49m\u001b[38;5;124;43m\"\u001b[39;49m\u001b[43m,\u001b[49m\u001b[43m \u001b[49m\u001b[38;5;124;43m\"\u001b[39;49m\u001b[38;5;124;43mstrict\u001b[39;49m\u001b[38;5;124;43m\"\u001b[39;49m\u001b[43m)\u001b[49m\u001b[43m,\u001b[49m\n\u001b[1;32m   1225\u001b[0m \u001b[43m    \u001b[49m\u001b[43mstorage_options\u001b[49m\u001b[38;5;241;43m=\u001b[39;49m\u001b[38;5;28;43mself\u001b[39;49m\u001b[38;5;241;43m.\u001b[39;49m\u001b[43moptions\u001b[49m\u001b[38;5;241;43m.\u001b[39;49m\u001b[43mget\u001b[49m\u001b[43m(\u001b[49m\u001b[38;5;124;43m\"\u001b[39;49m\u001b[38;5;124;43mstorage_options\u001b[39;49m\u001b[38;5;124;43m\"\u001b[39;49m\u001b[43m,\u001b[49m\u001b[43m \u001b[49m\u001b[38;5;28;43;01mNone\u001b[39;49;00m\u001b[43m)\u001b[49m\u001b[43m,\u001b[49m\n\u001b[1;32m   1226\u001b[0m \u001b[43m\u001b[49m\u001b[43m)\u001b[49m\n\u001b[1;32m   1227\u001b[0m \u001b[38;5;28;01massert\u001b[39;00m \u001b[38;5;28mself\u001b[39m\u001b[38;5;241m.\u001b[39mhandles \u001b[38;5;129;01mis\u001b[39;00m \u001b[38;5;129;01mnot\u001b[39;00m \u001b[38;5;28;01mNone\u001b[39;00m\n\u001b[1;32m   1228\u001b[0m f \u001b[38;5;241m=\u001b[39m \u001b[38;5;28mself\u001b[39m\u001b[38;5;241m.\u001b[39mhandles\u001b[38;5;241m.\u001b[39mhandle\n",
      "File \u001b[0;32m/opt/homebrew/lib/python3.9/site-packages/pandas/io/common.py:789\u001b[0m, in \u001b[0;36mget_handle\u001b[0;34m(path_or_buf, mode, encoding, compression, memory_map, is_text, errors, storage_options)\u001b[0m\n\u001b[1;32m    784\u001b[0m \u001b[38;5;28;01melif\u001b[39;00m \u001b[38;5;28misinstance\u001b[39m(handle, \u001b[38;5;28mstr\u001b[39m):\n\u001b[1;32m    785\u001b[0m     \u001b[38;5;66;03m# Check whether the filename is to be opened in binary mode.\u001b[39;00m\n\u001b[1;32m    786\u001b[0m     \u001b[38;5;66;03m# Binary mode does not support 'encoding' and 'newline'.\u001b[39;00m\n\u001b[1;32m    787\u001b[0m     \u001b[38;5;28;01mif\u001b[39;00m ioargs\u001b[38;5;241m.\u001b[39mencoding \u001b[38;5;129;01mand\u001b[39;00m \u001b[38;5;124m\"\u001b[39m\u001b[38;5;124mb\u001b[39m\u001b[38;5;124m\"\u001b[39m \u001b[38;5;129;01mnot\u001b[39;00m \u001b[38;5;129;01min\u001b[39;00m ioargs\u001b[38;5;241m.\u001b[39mmode:\n\u001b[1;32m    788\u001b[0m         \u001b[38;5;66;03m# Encoding\u001b[39;00m\n\u001b[0;32m--> 789\u001b[0m         handle \u001b[38;5;241m=\u001b[39m \u001b[38;5;28;43mopen\u001b[39;49m\u001b[43m(\u001b[49m\n\u001b[1;32m    790\u001b[0m \u001b[43m            \u001b[49m\u001b[43mhandle\u001b[49m\u001b[43m,\u001b[49m\n\u001b[1;32m    791\u001b[0m \u001b[43m            \u001b[49m\u001b[43mioargs\u001b[49m\u001b[38;5;241;43m.\u001b[39;49m\u001b[43mmode\u001b[49m\u001b[43m,\u001b[49m\n\u001b[1;32m    792\u001b[0m \u001b[43m            \u001b[49m\u001b[43mencoding\u001b[49m\u001b[38;5;241;43m=\u001b[39;49m\u001b[43mioargs\u001b[49m\u001b[38;5;241;43m.\u001b[39;49m\u001b[43mencoding\u001b[49m\u001b[43m,\u001b[49m\n\u001b[1;32m    793\u001b[0m \u001b[43m            \u001b[49m\u001b[43merrors\u001b[49m\u001b[38;5;241;43m=\u001b[39;49m\u001b[43merrors\u001b[49m\u001b[43m,\u001b[49m\n\u001b[1;32m    794\u001b[0m \u001b[43m            \u001b[49m\u001b[43mnewline\u001b[49m\u001b[38;5;241;43m=\u001b[39;49m\u001b[38;5;124;43m\"\u001b[39;49m\u001b[38;5;124;43m\"\u001b[39;49m\u001b[43m,\u001b[49m\n\u001b[1;32m    795\u001b[0m \u001b[43m        \u001b[49m\u001b[43m)\u001b[49m\n\u001b[1;32m    796\u001b[0m     \u001b[38;5;28;01melse\u001b[39;00m:\n\u001b[1;32m    797\u001b[0m         \u001b[38;5;66;03m# Binary mode\u001b[39;00m\n\u001b[1;32m    798\u001b[0m         handle \u001b[38;5;241m=\u001b[39m \u001b[38;5;28mopen\u001b[39m(handle, ioargs\u001b[38;5;241m.\u001b[39mmode)\n",
      "\u001b[0;31mFileNotFoundError\u001b[0m: [Errno 2] No such file or directory: '/Users/harmansahota/Desktop/life/prediction/japan-earthquakes-data'"
     ]
    }
   ],
   "source": [
    "data = pd.read_csv(\"/Users/harmansahota/Desktop/life/prediction/japan-earthquakes-data\")\n"
   ]
  },
  {
   "cell_type": "code",
   "execution_count": 3,
   "id": "8d58aacf",
   "metadata": {},
   "outputs": [],
   "source": [
    "data = pd.read_csv(\"/Users/harmansahota/Desktop/life/prediction/japan-earthquakes-data.csv\")\n"
   ]
  },
  {
   "cell_type": "code",
   "execution_count": 4,
   "id": "3a0da32a",
   "metadata": {},
   "outputs": [
    {
     "data": {
      "text/html": [
       "<div>\n",
       "<style scoped>\n",
       "    .dataframe tbody tr th:only-of-type {\n",
       "        vertical-align: middle;\n",
       "    }\n",
       "\n",
       "    .dataframe tbody tr th {\n",
       "        vertical-align: top;\n",
       "    }\n",
       "\n",
       "    .dataframe thead th {\n",
       "        text-align: right;\n",
       "    }\n",
       "</style>\n",
       "<table border=\"1\" class=\"dataframe\">\n",
       "  <thead>\n",
       "    <tr style=\"text-align: right;\">\n",
       "      <th></th>\n",
       "      <th>time</th>\n",
       "      <th>latitude</th>\n",
       "      <th>longitude</th>\n",
       "      <th>depth</th>\n",
       "      <th>mag</th>\n",
       "      <th>magType</th>\n",
       "      <th>nst</th>\n",
       "      <th>gap</th>\n",
       "      <th>dmin</th>\n",
       "      <th>rms</th>\n",
       "      <th>...</th>\n",
       "      <th>updated</th>\n",
       "      <th>place</th>\n",
       "      <th>type</th>\n",
       "      <th>horizontalError</th>\n",
       "      <th>depthError</th>\n",
       "      <th>magError</th>\n",
       "      <th>magNst</th>\n",
       "      <th>status</th>\n",
       "      <th>locationSource</th>\n",
       "      <th>magSource</th>\n",
       "    </tr>\n",
       "  </thead>\n",
       "  <tbody>\n",
       "    <tr>\n",
       "      <th>0</th>\n",
       "      <td>2019-01-01T22:05:38.960Z</td>\n",
       "      <td>35.6831</td>\n",
       "      <td>140.2344</td>\n",
       "      <td>66.24</td>\n",
       "      <td>4.4</td>\n",
       "      <td>mb</td>\n",
       "      <td>NaN</td>\n",
       "      <td>141.0</td>\n",
       "      <td>1.855</td>\n",
       "      <td>0.66</td>\n",
       "      <td>...</td>\n",
       "      <td>2019-03-08T17:50:13.040Z</td>\n",
       "      <td>3 km S of Sakura, Japan</td>\n",
       "      <td>earthquake</td>\n",
       "      <td>2.9</td>\n",
       "      <td>8.6</td>\n",
       "      <td>0.115</td>\n",
       "      <td>22</td>\n",
       "      <td>reviewed</td>\n",
       "      <td>us</td>\n",
       "      <td>us</td>\n",
       "    </tr>\n",
       "    <tr>\n",
       "      <th>1</th>\n",
       "      <td>2019-01-02T15:11:16.070Z</td>\n",
       "      <td>39.4417</td>\n",
       "      <td>143.6408</td>\n",
       "      <td>21.01</td>\n",
       "      <td>4.5</td>\n",
       "      <td>mb</td>\n",
       "      <td>NaN</td>\n",
       "      <td>110.0</td>\n",
       "      <td>2.390</td>\n",
       "      <td>0.85</td>\n",
       "      <td>...</td>\n",
       "      <td>2019-03-08T17:50:21.040Z</td>\n",
       "      <td>145 km E of Yamada, Japan</td>\n",
       "      <td>earthquake</td>\n",
       "      <td>9.1</td>\n",
       "      <td>6.4</td>\n",
       "      <td>0.180</td>\n",
       "      <td>9</td>\n",
       "      <td>reviewed</td>\n",
       "      <td>us</td>\n",
       "      <td>us</td>\n",
       "    </tr>\n",
       "    <tr>\n",
       "      <th>2</th>\n",
       "      <td>2019-01-03T09:10:28.440Z</td>\n",
       "      <td>33.0514</td>\n",
       "      <td>130.4705</td>\n",
       "      <td>10.00</td>\n",
       "      <td>4.7</td>\n",
       "      <td>mb</td>\n",
       "      <td>NaN</td>\n",
       "      <td>97.0</td>\n",
       "      <td>0.348</td>\n",
       "      <td>0.60</td>\n",
       "      <td>...</td>\n",
       "      <td>2020-07-10T17:21:55.993Z</td>\n",
       "      <td>2 km NE of ?muta, Japan</td>\n",
       "      <td>earthquake</td>\n",
       "      <td>4.9</td>\n",
       "      <td>1.8</td>\n",
       "      <td>0.075</td>\n",
       "      <td>54</td>\n",
       "      <td>reviewed</td>\n",
       "      <td>us</td>\n",
       "      <td>us</td>\n",
       "    </tr>\n",
       "    <tr>\n",
       "      <th>3</th>\n",
       "      <td>2019-01-03T20:42:45.260Z</td>\n",
       "      <td>30.3888</td>\n",
       "      <td>138.0987</td>\n",
       "      <td>451.33</td>\n",
       "      <td>4.0</td>\n",
       "      <td>mb</td>\n",
       "      <td>NaN</td>\n",
       "      <td>113.0</td>\n",
       "      <td>3.085</td>\n",
       "      <td>0.75</td>\n",
       "      <td>...</td>\n",
       "      <td>2019-03-08T17:50:21.040Z</td>\n",
       "      <td>Izu Islands, Japan region</td>\n",
       "      <td>earthquake</td>\n",
       "      <td>11.0</td>\n",
       "      <td>5.8</td>\n",
       "      <td>0.073</td>\n",
       "      <td>50</td>\n",
       "      <td>reviewed</td>\n",
       "      <td>us</td>\n",
       "      <td>us</td>\n",
       "    </tr>\n",
       "    <tr>\n",
       "      <th>4</th>\n",
       "      <td>2019-01-04T22:05:07.080Z</td>\n",
       "      <td>32.8198</td>\n",
       "      <td>140.1248</td>\n",
       "      <td>98.35</td>\n",
       "      <td>4.3</td>\n",
       "      <td>mb</td>\n",
       "      <td>NaN</td>\n",
       "      <td>147.0</td>\n",
       "      <td>0.394</td>\n",
       "      <td>0.46</td>\n",
       "      <td>...</td>\n",
       "      <td>2019-03-08T17:50:21.040Z</td>\n",
       "      <td>233 km SSE of Shimoda, Japan</td>\n",
       "      <td>earthquake</td>\n",
       "      <td>12.0</td>\n",
       "      <td>4.7</td>\n",
       "      <td>0.080</td>\n",
       "      <td>44</td>\n",
       "      <td>reviewed</td>\n",
       "      <td>us</td>\n",
       "      <td>us</td>\n",
       "    </tr>\n",
       "  </tbody>\n",
       "</table>\n",
       "<p>5 rows × 22 columns</p>\n",
       "</div>"
      ],
      "text/plain": [
       "                       time  latitude  longitude   depth  mag magType  nst  \\\n",
       "0  2019-01-01T22:05:38.960Z   35.6831   140.2344   66.24  4.4      mb  NaN   \n",
       "1  2019-01-02T15:11:16.070Z   39.4417   143.6408   21.01  4.5      mb  NaN   \n",
       "2  2019-01-03T09:10:28.440Z   33.0514   130.4705   10.00  4.7      mb  NaN   \n",
       "3  2019-01-03T20:42:45.260Z   30.3888   138.0987  451.33  4.0      mb  NaN   \n",
       "4  2019-01-04T22:05:07.080Z   32.8198   140.1248   98.35  4.3      mb  NaN   \n",
       "\n",
       "     gap   dmin   rms  ...                   updated  \\\n",
       "0  141.0  1.855  0.66  ...  2019-03-08T17:50:13.040Z   \n",
       "1  110.0  2.390  0.85  ...  2019-03-08T17:50:21.040Z   \n",
       "2   97.0  0.348  0.60  ...  2020-07-10T17:21:55.993Z   \n",
       "3  113.0  3.085  0.75  ...  2019-03-08T17:50:21.040Z   \n",
       "4  147.0  0.394  0.46  ...  2019-03-08T17:50:21.040Z   \n",
       "\n",
       "                          place        type horizontalError depthError  \\\n",
       "0       3 km S of Sakura, Japan  earthquake             2.9        8.6   \n",
       "1     145 km E of Yamada, Japan  earthquake             9.1        6.4   \n",
       "2       2 km NE of ?muta, Japan  earthquake             4.9        1.8   \n",
       "3     Izu Islands, Japan region  earthquake            11.0        5.8   \n",
       "4  233 km SSE of Shimoda, Japan  earthquake            12.0        4.7   \n",
       "\n",
       "   magError  magNst    status  locationSource magSource  \n",
       "0     0.115      22  reviewed              us        us  \n",
       "1     0.180       9  reviewed              us        us  \n",
       "2     0.075      54  reviewed              us        us  \n",
       "3     0.073      50  reviewed              us        us  \n",
       "4     0.080      44  reviewed              us        us  \n",
       "\n",
       "[5 rows x 22 columns]"
      ]
     },
     "execution_count": 4,
     "metadata": {},
     "output_type": "execute_result"
    }
   ],
   "source": [
    "data.head()\n"
   ]
  },
  {
   "cell_type": "code",
   "execution_count": 5,
   "id": "ff3ce0ef",
   "metadata": {},
   "outputs": [
    {
     "data": {
      "text/html": [
       "<div>\n",
       "<style scoped>\n",
       "    .dataframe tbody tr th:only-of-type {\n",
       "        vertical-align: middle;\n",
       "    }\n",
       "\n",
       "    .dataframe tbody tr th {\n",
       "        vertical-align: top;\n",
       "    }\n",
       "\n",
       "    .dataframe thead th {\n",
       "        text-align: right;\n",
       "    }\n",
       "</style>\n",
       "<table border=\"1\" class=\"dataframe\">\n",
       "  <thead>\n",
       "    <tr style=\"text-align: right;\">\n",
       "      <th></th>\n",
       "      <th>time</th>\n",
       "      <th>latitude</th>\n",
       "      <th>longitude</th>\n",
       "      <th>depth</th>\n",
       "      <th>mag</th>\n",
       "      <th>magType</th>\n",
       "      <th>nst</th>\n",
       "      <th>gap</th>\n",
       "      <th>dmin</th>\n",
       "      <th>rms</th>\n",
       "      <th>...</th>\n",
       "      <th>updated</th>\n",
       "      <th>place</th>\n",
       "      <th>type</th>\n",
       "      <th>horizontalError</th>\n",
       "      <th>depthError</th>\n",
       "      <th>magError</th>\n",
       "      <th>magNst</th>\n",
       "      <th>status</th>\n",
       "      <th>locationSource</th>\n",
       "      <th>magSource</th>\n",
       "    </tr>\n",
       "  </thead>\n",
       "  <tbody>\n",
       "    <tr>\n",
       "      <th>2530</th>\n",
       "      <td>2021-12-02T09:40:40.365Z</td>\n",
       "      <td>35.2206</td>\n",
       "      <td>141.3344</td>\n",
       "      <td>26.93</td>\n",
       "      <td>4.5</td>\n",
       "      <td>mb</td>\n",
       "      <td>NaN</td>\n",
       "      <td>135.0</td>\n",
       "      <td>2.449</td>\n",
       "      <td>0.77</td>\n",
       "      <td>...</td>\n",
       "      <td>2021-12-02T13:56:30.040Z</td>\n",
       "      <td>72 km SE of Hasaki, Japan</td>\n",
       "      <td>earthquake</td>\n",
       "      <td>5.7</td>\n",
       "      <td>5.6</td>\n",
       "      <td>0.140</td>\n",
       "      <td>15</td>\n",
       "      <td>reviewed</td>\n",
       "      <td>us</td>\n",
       "      <td>us</td>\n",
       "    </tr>\n",
       "    <tr>\n",
       "      <th>2531</th>\n",
       "      <td>2021-12-02T17:17:59.327Z</td>\n",
       "      <td>35.5454</td>\n",
       "      <td>139.0111</td>\n",
       "      <td>26.93</td>\n",
       "      <td>4.5</td>\n",
       "      <td>mb</td>\n",
       "      <td>NaN</td>\n",
       "      <td>114.0</td>\n",
       "      <td>1.100</td>\n",
       "      <td>0.76</td>\n",
       "      <td>...</td>\n",
       "      <td>2021-12-03T09:23:56.286Z</td>\n",
       "      <td>8 km SSE of ?tsuki, Japan</td>\n",
       "      <td>earthquake</td>\n",
       "      <td>4.6</td>\n",
       "      <td>5.0</td>\n",
       "      <td>0.106</td>\n",
       "      <td>26</td>\n",
       "      <td>reviewed</td>\n",
       "      <td>us</td>\n",
       "      <td>us</td>\n",
       "    </tr>\n",
       "    <tr>\n",
       "      <th>2532</th>\n",
       "      <td>2021-12-02T20:49:15.003Z</td>\n",
       "      <td>45.7785</td>\n",
       "      <td>142.5889</td>\n",
       "      <td>315.88</td>\n",
       "      <td>4.6</td>\n",
       "      <td>mb</td>\n",
       "      <td>NaN</td>\n",
       "      <td>77.0</td>\n",
       "      <td>1.186</td>\n",
       "      <td>0.75</td>\n",
       "      <td>...</td>\n",
       "      <td>2021-12-03T06:18:29.532Z</td>\n",
       "      <td>75 km NE of Makubetsu, Japan</td>\n",
       "      <td>earthquake</td>\n",
       "      <td>9.7</td>\n",
       "      <td>7.1</td>\n",
       "      <td>0.031</td>\n",
       "      <td>312</td>\n",
       "      <td>reviewed</td>\n",
       "      <td>us</td>\n",
       "      <td>us</td>\n",
       "    </tr>\n",
       "    <tr>\n",
       "      <th>2533</th>\n",
       "      <td>2021-12-02T21:37:48.182Z</td>\n",
       "      <td>35.5609</td>\n",
       "      <td>138.9939</td>\n",
       "      <td>22.08</td>\n",
       "      <td>4.4</td>\n",
       "      <td>mwr</td>\n",
       "      <td>NaN</td>\n",
       "      <td>92.0</td>\n",
       "      <td>1.103</td>\n",
       "      <td>0.78</td>\n",
       "      <td>...</td>\n",
       "      <td>2021-12-03T10:19:49.550Z</td>\n",
       "      <td>6 km SSE of ?tsuki, Japan</td>\n",
       "      <td>earthquake</td>\n",
       "      <td>3.3</td>\n",
       "      <td>4.6</td>\n",
       "      <td>0.075</td>\n",
       "      <td>17</td>\n",
       "      <td>reviewed</td>\n",
       "      <td>us</td>\n",
       "      <td>us</td>\n",
       "    </tr>\n",
       "    <tr>\n",
       "      <th>2534</th>\n",
       "      <td>2021-12-03T00:28:27.805Z</td>\n",
       "      <td>33.8302</td>\n",
       "      <td>135.0996</td>\n",
       "      <td>9.93</td>\n",
       "      <td>5.2</td>\n",
       "      <td>mww</td>\n",
       "      <td>NaN</td>\n",
       "      <td>61.0</td>\n",
       "      <td>1.023</td>\n",
       "      <td>0.59</td>\n",
       "      <td>...</td>\n",
       "      <td>2021-12-03T09:22:13.024Z</td>\n",
       "      <td>8 km SW of Gob?, Japan</td>\n",
       "      <td>earthquake</td>\n",
       "      <td>2.5</td>\n",
       "      <td>4.0</td>\n",
       "      <td>0.098</td>\n",
       "      <td>10</td>\n",
       "      <td>reviewed</td>\n",
       "      <td>us</td>\n",
       "      <td>us</td>\n",
       "    </tr>\n",
       "  </tbody>\n",
       "</table>\n",
       "<p>5 rows × 22 columns</p>\n",
       "</div>"
      ],
      "text/plain": [
       "                          time  latitude  longitude   depth  mag magType  nst  \\\n",
       "2530  2021-12-02T09:40:40.365Z   35.2206   141.3344   26.93  4.5      mb  NaN   \n",
       "2531  2021-12-02T17:17:59.327Z   35.5454   139.0111   26.93  4.5      mb  NaN   \n",
       "2532  2021-12-02T20:49:15.003Z   45.7785   142.5889  315.88  4.6      mb  NaN   \n",
       "2533  2021-12-02T21:37:48.182Z   35.5609   138.9939   22.08  4.4     mwr  NaN   \n",
       "2534  2021-12-03T00:28:27.805Z   33.8302   135.0996    9.93  5.2     mww  NaN   \n",
       "\n",
       "        gap   dmin   rms  ...                   updated  \\\n",
       "2530  135.0  2.449  0.77  ...  2021-12-02T13:56:30.040Z   \n",
       "2531  114.0  1.100  0.76  ...  2021-12-03T09:23:56.286Z   \n",
       "2532   77.0  1.186  0.75  ...  2021-12-03T06:18:29.532Z   \n",
       "2533   92.0  1.103  0.78  ...  2021-12-03T10:19:49.550Z   \n",
       "2534   61.0  1.023  0.59  ...  2021-12-03T09:22:13.024Z   \n",
       "\n",
       "                             place        type horizontalError depthError  \\\n",
       "2530     72 km SE of Hasaki, Japan  earthquake             5.7        5.6   \n",
       "2531     8 km SSE of ?tsuki, Japan  earthquake             4.6        5.0   \n",
       "2532  75 km NE of Makubetsu, Japan  earthquake             9.7        7.1   \n",
       "2533     6 km SSE of ?tsuki, Japan  earthquake             3.3        4.6   \n",
       "2534        8 km SW of Gob?, Japan  earthquake             2.5        4.0   \n",
       "\n",
       "      magError  magNst    status  locationSource magSource  \n",
       "2530     0.140      15  reviewed              us        us  \n",
       "2531     0.106      26  reviewed              us        us  \n",
       "2532     0.031     312  reviewed              us        us  \n",
       "2533     0.075      17  reviewed              us        us  \n",
       "2534     0.098      10  reviewed              us        us  \n",
       "\n",
       "[5 rows x 22 columns]"
      ]
     },
     "execution_count": 5,
     "metadata": {},
     "output_type": "execute_result"
    }
   ],
   "source": [
    "data.tail()"
   ]
  },
  {
   "cell_type": "code",
   "execution_count": 5,
   "id": "e1bbac46",
   "metadata": {},
   "outputs": [
    {
     "data": {
      "text/plain": [
       "Index(['time', 'latitude', 'longitude', 'depth', 'mag', 'magType', 'nst',\n",
       "       'gap', 'dmin', 'rms', 'net', 'id', 'updated', 'place', 'type',\n",
       "       'horizontalError', 'depthError', 'magError', 'magNst', 'status',\n",
       "       'locationSource', 'magSource'],\n",
       "      dtype='object')"
      ]
     },
     "execution_count": 5,
     "metadata": {},
     "output_type": "execute_result"
    }
   ],
   "source": [
    "data.columns\n"
   ]
  },
  {
   "cell_type": "code",
   "execution_count": 6,
   "id": "466f0069",
   "metadata": {},
   "outputs": [
    {
     "data": {
      "text/plain": [
       "(215, 22)"
      ]
     },
     "execution_count": 6,
     "metadata": {},
     "output_type": "execute_result"
    }
   ],
   "source": [
    "data.shape"
   ]
  },
  {
   "cell_type": "code",
   "execution_count": 7,
   "id": "b90e121b",
   "metadata": {
    "scrolled": true
   },
   "outputs": [
    {
     "data": {
      "text/html": [
       "<div>\n",
       "<style scoped>\n",
       "    .dataframe tbody tr th:only-of-type {\n",
       "        vertical-align: middle;\n",
       "    }\n",
       "\n",
       "    .dataframe tbody tr th {\n",
       "        vertical-align: top;\n",
       "    }\n",
       "\n",
       "    .dataframe thead th {\n",
       "        text-align: right;\n",
       "    }\n",
       "</style>\n",
       "<table border=\"1\" class=\"dataframe\">\n",
       "  <thead>\n",
       "    <tr style=\"text-align: right;\">\n",
       "      <th></th>\n",
       "      <th>latitude</th>\n",
       "      <th>longitude</th>\n",
       "      <th>depth</th>\n",
       "      <th>mag</th>\n",
       "      <th>nst</th>\n",
       "      <th>gap</th>\n",
       "      <th>dmin</th>\n",
       "      <th>rms</th>\n",
       "      <th>horizontalError</th>\n",
       "      <th>depthError</th>\n",
       "      <th>magError</th>\n",
       "      <th>magNst</th>\n",
       "    </tr>\n",
       "  </thead>\n",
       "  <tbody>\n",
       "    <tr>\n",
       "      <th>count</th>\n",
       "      <td>215.000000</td>\n",
       "      <td>215.000000</td>\n",
       "      <td>215.000000</td>\n",
       "      <td>215.000000</td>\n",
       "      <td>190.000000</td>\n",
       "      <td>215.000000</td>\n",
       "      <td>211.000000</td>\n",
       "      <td>215.000000</td>\n",
       "      <td>215.000000</td>\n",
       "      <td>215.000000</td>\n",
       "      <td>215.000000</td>\n",
       "      <td>215.000000</td>\n",
       "    </tr>\n",
       "    <tr>\n",
       "      <th>mean</th>\n",
       "      <td>18.202418</td>\n",
       "      <td>-67.509981</td>\n",
       "      <td>20.925860</td>\n",
       "      <td>3.207070</td>\n",
       "      <td>16.521053</td>\n",
       "      <td>209.976744</td>\n",
       "      <td>0.423424</td>\n",
       "      <td>0.255302</td>\n",
       "      <td>1.649023</td>\n",
       "      <td>2.398693</td>\n",
       "      <td>0.167639</td>\n",
       "      <td>21.748837</td>\n",
       "    </tr>\n",
       "    <tr>\n",
       "      <th>std</th>\n",
       "      <td>0.447127</td>\n",
       "      <td>2.227508</td>\n",
       "      <td>27.072693</td>\n",
       "      <td>0.655864</td>\n",
       "      <td>5.008678</td>\n",
       "      <td>65.498408</td>\n",
       "      <td>0.615195</td>\n",
       "      <td>0.241037</td>\n",
       "      <td>2.023905</td>\n",
       "      <td>4.888532</td>\n",
       "      <td>0.093262</td>\n",
       "      <td>66.524623</td>\n",
       "    </tr>\n",
       "    <tr>\n",
       "      <th>min</th>\n",
       "      <td>17.792300</td>\n",
       "      <td>-75.510600</td>\n",
       "      <td>2.000000</td>\n",
       "      <td>2.500000</td>\n",
       "      <td>4.000000</td>\n",
       "      <td>23.000000</td>\n",
       "      <td>0.027000</td>\n",
       "      <td>0.030000</td>\n",
       "      <td>0.280000</td>\n",
       "      <td>0.150000</td>\n",
       "      <td>0.010000</td>\n",
       "      <td>1.000000</td>\n",
       "    </tr>\n",
       "    <tr>\n",
       "      <th>25%</th>\n",
       "      <td>17.944200</td>\n",
       "      <td>-67.114750</td>\n",
       "      <td>10.000000</td>\n",
       "      <td>2.740000</td>\n",
       "      <td>12.250000</td>\n",
       "      <td>179.000000</td>\n",
       "      <td>0.064150</td>\n",
       "      <td>0.120000</td>\n",
       "      <td>0.550000</td>\n",
       "      <td>0.320000</td>\n",
       "      <td>0.100000</td>\n",
       "      <td>6.000000</td>\n",
       "    </tr>\n",
       "    <tr>\n",
       "      <th>50%</th>\n",
       "      <td>17.966000</td>\n",
       "      <td>-67.016100</td>\n",
       "      <td>11.000000</td>\n",
       "      <td>3.070000</td>\n",
       "      <td>17.000000</td>\n",
       "      <td>228.000000</td>\n",
       "      <td>0.162500</td>\n",
       "      <td>0.160000</td>\n",
       "      <td>0.700000</td>\n",
       "      <td>0.590000</td>\n",
       "      <td>0.160000</td>\n",
       "      <td>9.000000</td>\n",
       "    </tr>\n",
       "    <tr>\n",
       "      <th>75%</th>\n",
       "      <td>18.412250</td>\n",
       "      <td>-66.842450</td>\n",
       "      <td>15.000000</td>\n",
       "      <td>3.400000</td>\n",
       "      <td>21.000000</td>\n",
       "      <td>243.000000</td>\n",
       "      <td>0.421900</td>\n",
       "      <td>0.260000</td>\n",
       "      <td>1.635000</td>\n",
       "      <td>1.570000</td>\n",
       "      <td>0.230000</td>\n",
       "      <td>17.000000</td>\n",
       "    </tr>\n",
       "    <tr>\n",
       "      <th>max</th>\n",
       "      <td>19.769100</td>\n",
       "      <td>-63.509500</td>\n",
       "      <td>159.000000</td>\n",
       "      <td>7.200000</td>\n",
       "      <td>28.000000</td>\n",
       "      <td>348.000000</td>\n",
       "      <td>2.420000</td>\n",
       "      <td>1.250000</td>\n",
       "      <td>11.000000</td>\n",
       "      <td>27.020000</td>\n",
       "      <td>0.521000</td>\n",
       "      <td>669.000000</td>\n",
       "    </tr>\n",
       "  </tbody>\n",
       "</table>\n",
       "</div>"
      ],
      "text/plain": [
       "         latitude   longitude       depth         mag         nst         gap  \\\n",
       "count  215.000000  215.000000  215.000000  215.000000  190.000000  215.000000   \n",
       "mean    18.202418  -67.509981   20.925860    3.207070   16.521053  209.976744   \n",
       "std      0.447127    2.227508   27.072693    0.655864    5.008678   65.498408   \n",
       "min     17.792300  -75.510600    2.000000    2.500000    4.000000   23.000000   \n",
       "25%     17.944200  -67.114750   10.000000    2.740000   12.250000  179.000000   \n",
       "50%     17.966000  -67.016100   11.000000    3.070000   17.000000  228.000000   \n",
       "75%     18.412250  -66.842450   15.000000    3.400000   21.000000  243.000000   \n",
       "max     19.769100  -63.509500  159.000000    7.200000   28.000000  348.000000   \n",
       "\n",
       "             dmin         rms  horizontalError  depthError    magError  \\\n",
       "count  211.000000  215.000000       215.000000  215.000000  215.000000   \n",
       "mean     0.423424    0.255302         1.649023    2.398693    0.167639   \n",
       "std      0.615195    0.241037         2.023905    4.888532    0.093262   \n",
       "min      0.027000    0.030000         0.280000    0.150000    0.010000   \n",
       "25%      0.064150    0.120000         0.550000    0.320000    0.100000   \n",
       "50%      0.162500    0.160000         0.700000    0.590000    0.160000   \n",
       "75%      0.421900    0.260000         1.635000    1.570000    0.230000   \n",
       "max      2.420000    1.250000        11.000000   27.020000    0.521000   \n",
       "\n",
       "           magNst  \n",
       "count  215.000000  \n",
       "mean    21.748837  \n",
       "std     66.524623  \n",
       "min      1.000000  \n",
       "25%      6.000000  \n",
       "50%      9.000000  \n",
       "75%     17.000000  \n",
       "max    669.000000  "
      ]
     },
     "execution_count": 7,
     "metadata": {},
     "output_type": "execute_result"
    }
   ],
   "source": [
    "data.describe()"
   ]
  },
  {
   "cell_type": "code",
   "execution_count": 9,
   "id": "72ec3c76",
   "metadata": {},
   "outputs": [],
   "source": [
    "#visualization"
   ]
  },
  {
   "cell_type": "code",
   "execution_count": 8,
   "id": "bf07f002",
   "metadata": {},
   "outputs": [
    {
     "data": {
      "text/plain": [
       "time                0\n",
       "latitude            0\n",
       "longitude           0\n",
       "depth               0\n",
       "mag                 0\n",
       "magType             0\n",
       "nst                25\n",
       "gap                 0\n",
       "dmin                4\n",
       "rms                 0\n",
       "net                 0\n",
       "id                  0\n",
       "updated             0\n",
       "place               0\n",
       "type                0\n",
       "horizontalError     0\n",
       "depthError          0\n",
       "magError            0\n",
       "magNst              0\n",
       "status              0\n",
       "locationSource      0\n",
       "magSource           0\n",
       "dtype: int64"
      ]
     },
     "execution_count": 8,
     "metadata": {},
     "output_type": "execute_result"
    }
   ],
   "source": [
    "data.isnull().sum()"
   ]
  },
  {
   "cell_type": "code",
   "execution_count": 11,
   "id": "0e0dbd14",
   "metadata": {},
   "outputs": [
    {
     "ename": "NameError",
     "evalue": "name 'nst' is not defined",
     "output_type": "error",
     "traceback": [
      "\u001b[0;31m---------------------------------------------------------------------------\u001b[0m",
      "\u001b[0;31mNameError\u001b[0m                                 Traceback (most recent call last)",
      "Input \u001b[0;32mIn [11]\u001b[0m, in \u001b[0;36m<cell line: 1>\u001b[0;34m()\u001b[0m\n\u001b[0;32m----> 1\u001b[0m data\u001b[38;5;241m.\u001b[39mdrop(\u001b[43mnst\u001b[49m)\n",
      "\u001b[0;31mNameError\u001b[0m: name 'nst' is not defined"
     ]
    }
   ],
   "source": [
    "data.drop(nst)"
   ]
  },
  {
   "cell_type": "code",
   "execution_count": 12,
   "id": "fccc1acf",
   "metadata": {},
   "outputs": [
    {
     "ename": "KeyError",
     "evalue": "\"['nst'] not found in axis\"",
     "output_type": "error",
     "traceback": [
      "\u001b[0;31m---------------------------------------------------------------------------\u001b[0m",
      "\u001b[0;31mKeyError\u001b[0m                                  Traceback (most recent call last)",
      "Input \u001b[0;32mIn [12]\u001b[0m, in \u001b[0;36m<cell line: 1>\u001b[0;34m()\u001b[0m\n\u001b[0;32m----> 1\u001b[0m \u001b[43mdata\u001b[49m\u001b[38;5;241;43m.\u001b[39;49m\u001b[43mdrop\u001b[49m\u001b[43m(\u001b[49m\u001b[38;5;124;43m'\u001b[39;49m\u001b[38;5;124;43mnst\u001b[39;49m\u001b[38;5;124;43m'\u001b[39;49m\u001b[43m)\u001b[49m\n",
      "File \u001b[0;32m/opt/homebrew/lib/python3.9/site-packages/pandas/util/_decorators.py:311\u001b[0m, in \u001b[0;36mdeprecate_nonkeyword_arguments.<locals>.decorate.<locals>.wrapper\u001b[0;34m(*args, **kwargs)\u001b[0m\n\u001b[1;32m    305\u001b[0m \u001b[38;5;28;01mif\u001b[39;00m \u001b[38;5;28mlen\u001b[39m(args) \u001b[38;5;241m>\u001b[39m num_allow_args:\n\u001b[1;32m    306\u001b[0m     warnings\u001b[38;5;241m.\u001b[39mwarn(\n\u001b[1;32m    307\u001b[0m         msg\u001b[38;5;241m.\u001b[39mformat(arguments\u001b[38;5;241m=\u001b[39marguments),\n\u001b[1;32m    308\u001b[0m         \u001b[38;5;167;01mFutureWarning\u001b[39;00m,\n\u001b[1;32m    309\u001b[0m         stacklevel\u001b[38;5;241m=\u001b[39mstacklevel,\n\u001b[1;32m    310\u001b[0m     )\n\u001b[0;32m--> 311\u001b[0m \u001b[38;5;28;01mreturn\u001b[39;00m \u001b[43mfunc\u001b[49m\u001b[43m(\u001b[49m\u001b[38;5;241;43m*\u001b[39;49m\u001b[43margs\u001b[49m\u001b[43m,\u001b[49m\u001b[43m \u001b[49m\u001b[38;5;241;43m*\u001b[39;49m\u001b[38;5;241;43m*\u001b[39;49m\u001b[43mkwargs\u001b[49m\u001b[43m)\u001b[49m\n",
      "File \u001b[0;32m/opt/homebrew/lib/python3.9/site-packages/pandas/core/frame.py:4948\u001b[0m, in \u001b[0;36mDataFrame.drop\u001b[0;34m(self, labels, axis, index, columns, level, inplace, errors)\u001b[0m\n\u001b[1;32m   4800\u001b[0m \u001b[38;5;129m@deprecate_nonkeyword_arguments\u001b[39m(version\u001b[38;5;241m=\u001b[39m\u001b[38;5;28;01mNone\u001b[39;00m, allowed_args\u001b[38;5;241m=\u001b[39m[\u001b[38;5;124m\"\u001b[39m\u001b[38;5;124mself\u001b[39m\u001b[38;5;124m\"\u001b[39m, \u001b[38;5;124m\"\u001b[39m\u001b[38;5;124mlabels\u001b[39m\u001b[38;5;124m\"\u001b[39m])\n\u001b[1;32m   4801\u001b[0m \u001b[38;5;28;01mdef\u001b[39;00m \u001b[38;5;21mdrop\u001b[39m(\n\u001b[1;32m   4802\u001b[0m     \u001b[38;5;28mself\u001b[39m,\n\u001b[0;32m   (...)\u001b[0m\n\u001b[1;32m   4809\u001b[0m     errors: \u001b[38;5;28mstr\u001b[39m \u001b[38;5;241m=\u001b[39m \u001b[38;5;124m\"\u001b[39m\u001b[38;5;124mraise\u001b[39m\u001b[38;5;124m\"\u001b[39m,\n\u001b[1;32m   4810\u001b[0m ):\n\u001b[1;32m   4811\u001b[0m     \u001b[38;5;124;03m\"\"\"\u001b[39;00m\n\u001b[1;32m   4812\u001b[0m \u001b[38;5;124;03m    Drop specified labels from rows or columns.\u001b[39;00m\n\u001b[1;32m   4813\u001b[0m \n\u001b[0;32m   (...)\u001b[0m\n\u001b[1;32m   4946\u001b[0m \u001b[38;5;124;03m            weight  1.0     0.8\u001b[39;00m\n\u001b[1;32m   4947\u001b[0m \u001b[38;5;124;03m    \"\"\"\u001b[39;00m\n\u001b[0;32m-> 4948\u001b[0m     \u001b[38;5;28;01mreturn\u001b[39;00m \u001b[38;5;28;43msuper\u001b[39;49m\u001b[43m(\u001b[49m\u001b[43m)\u001b[49m\u001b[38;5;241;43m.\u001b[39;49m\u001b[43mdrop\u001b[49m\u001b[43m(\u001b[49m\n\u001b[1;32m   4949\u001b[0m \u001b[43m        \u001b[49m\u001b[43mlabels\u001b[49m\u001b[38;5;241;43m=\u001b[39;49m\u001b[43mlabels\u001b[49m\u001b[43m,\u001b[49m\n\u001b[1;32m   4950\u001b[0m \u001b[43m        \u001b[49m\u001b[43maxis\u001b[49m\u001b[38;5;241;43m=\u001b[39;49m\u001b[43maxis\u001b[49m\u001b[43m,\u001b[49m\n\u001b[1;32m   4951\u001b[0m \u001b[43m        \u001b[49m\u001b[43mindex\u001b[49m\u001b[38;5;241;43m=\u001b[39;49m\u001b[43mindex\u001b[49m\u001b[43m,\u001b[49m\n\u001b[1;32m   4952\u001b[0m \u001b[43m        \u001b[49m\u001b[43mcolumns\u001b[49m\u001b[38;5;241;43m=\u001b[39;49m\u001b[43mcolumns\u001b[49m\u001b[43m,\u001b[49m\n\u001b[1;32m   4953\u001b[0m \u001b[43m        \u001b[49m\u001b[43mlevel\u001b[49m\u001b[38;5;241;43m=\u001b[39;49m\u001b[43mlevel\u001b[49m\u001b[43m,\u001b[49m\n\u001b[1;32m   4954\u001b[0m \u001b[43m        \u001b[49m\u001b[43minplace\u001b[49m\u001b[38;5;241;43m=\u001b[39;49m\u001b[43minplace\u001b[49m\u001b[43m,\u001b[49m\n\u001b[1;32m   4955\u001b[0m \u001b[43m        \u001b[49m\u001b[43merrors\u001b[49m\u001b[38;5;241;43m=\u001b[39;49m\u001b[43merrors\u001b[49m\u001b[43m,\u001b[49m\n\u001b[1;32m   4956\u001b[0m \u001b[43m    \u001b[49m\u001b[43m)\u001b[49m\n",
      "File \u001b[0;32m/opt/homebrew/lib/python3.9/site-packages/pandas/core/generic.py:4279\u001b[0m, in \u001b[0;36mNDFrame.drop\u001b[0;34m(self, labels, axis, index, columns, level, inplace, errors)\u001b[0m\n\u001b[1;32m   4277\u001b[0m \u001b[38;5;28;01mfor\u001b[39;00m axis, labels \u001b[38;5;129;01min\u001b[39;00m axes\u001b[38;5;241m.\u001b[39mitems():\n\u001b[1;32m   4278\u001b[0m     \u001b[38;5;28;01mif\u001b[39;00m labels \u001b[38;5;129;01mis\u001b[39;00m \u001b[38;5;129;01mnot\u001b[39;00m \u001b[38;5;28;01mNone\u001b[39;00m:\n\u001b[0;32m-> 4279\u001b[0m         obj \u001b[38;5;241m=\u001b[39m \u001b[43mobj\u001b[49m\u001b[38;5;241;43m.\u001b[39;49m\u001b[43m_drop_axis\u001b[49m\u001b[43m(\u001b[49m\u001b[43mlabels\u001b[49m\u001b[43m,\u001b[49m\u001b[43m \u001b[49m\u001b[43maxis\u001b[49m\u001b[43m,\u001b[49m\u001b[43m \u001b[49m\u001b[43mlevel\u001b[49m\u001b[38;5;241;43m=\u001b[39;49m\u001b[43mlevel\u001b[49m\u001b[43m,\u001b[49m\u001b[43m \u001b[49m\u001b[43merrors\u001b[49m\u001b[38;5;241;43m=\u001b[39;49m\u001b[43merrors\u001b[49m\u001b[43m)\u001b[49m\n\u001b[1;32m   4281\u001b[0m \u001b[38;5;28;01mif\u001b[39;00m inplace:\n\u001b[1;32m   4282\u001b[0m     \u001b[38;5;28mself\u001b[39m\u001b[38;5;241m.\u001b[39m_update_inplace(obj)\n",
      "File \u001b[0;32m/opt/homebrew/lib/python3.9/site-packages/pandas/core/generic.py:4323\u001b[0m, in \u001b[0;36mNDFrame._drop_axis\u001b[0;34m(self, labels, axis, level, errors, consolidate, only_slice)\u001b[0m\n\u001b[1;32m   4321\u001b[0m         new_axis \u001b[38;5;241m=\u001b[39m axis\u001b[38;5;241m.\u001b[39mdrop(labels, level\u001b[38;5;241m=\u001b[39mlevel, errors\u001b[38;5;241m=\u001b[39merrors)\n\u001b[1;32m   4322\u001b[0m     \u001b[38;5;28;01melse\u001b[39;00m:\n\u001b[0;32m-> 4323\u001b[0m         new_axis \u001b[38;5;241m=\u001b[39m \u001b[43maxis\u001b[49m\u001b[38;5;241;43m.\u001b[39;49m\u001b[43mdrop\u001b[49m\u001b[43m(\u001b[49m\u001b[43mlabels\u001b[49m\u001b[43m,\u001b[49m\u001b[43m \u001b[49m\u001b[43merrors\u001b[49m\u001b[38;5;241;43m=\u001b[39;49m\u001b[43merrors\u001b[49m\u001b[43m)\u001b[49m\n\u001b[1;32m   4324\u001b[0m     indexer \u001b[38;5;241m=\u001b[39m axis\u001b[38;5;241m.\u001b[39mget_indexer(new_axis)\n\u001b[1;32m   4326\u001b[0m \u001b[38;5;66;03m# Case for non-unique axis\u001b[39;00m\n\u001b[1;32m   4327\u001b[0m \u001b[38;5;28;01melse\u001b[39;00m:\n",
      "File \u001b[0;32m/opt/homebrew/lib/python3.9/site-packages/pandas/core/indexes/base.py:6644\u001b[0m, in \u001b[0;36mIndex.drop\u001b[0;34m(self, labels, errors)\u001b[0m\n\u001b[1;32m   6642\u001b[0m \u001b[38;5;28;01mif\u001b[39;00m mask\u001b[38;5;241m.\u001b[39many():\n\u001b[1;32m   6643\u001b[0m     \u001b[38;5;28;01mif\u001b[39;00m errors \u001b[38;5;241m!=\u001b[39m \u001b[38;5;124m\"\u001b[39m\u001b[38;5;124mignore\u001b[39m\u001b[38;5;124m\"\u001b[39m:\n\u001b[0;32m-> 6644\u001b[0m         \u001b[38;5;28;01mraise\u001b[39;00m \u001b[38;5;167;01mKeyError\u001b[39;00m(\u001b[38;5;124mf\u001b[39m\u001b[38;5;124m\"\u001b[39m\u001b[38;5;132;01m{\u001b[39;00m\u001b[38;5;28mlist\u001b[39m(labels[mask])\u001b[38;5;132;01m}\u001b[39;00m\u001b[38;5;124m not found in axis\u001b[39m\u001b[38;5;124m\"\u001b[39m)\n\u001b[1;32m   6645\u001b[0m     indexer \u001b[38;5;241m=\u001b[39m indexer[\u001b[38;5;241m~\u001b[39mmask]\n\u001b[1;32m   6646\u001b[0m \u001b[38;5;28;01mreturn\u001b[39;00m \u001b[38;5;28mself\u001b[39m\u001b[38;5;241m.\u001b[39mdelete(indexer)\n",
      "\u001b[0;31mKeyError\u001b[0m: \"['nst'] not found in axis\""
     ]
    }
   ],
   "source": [
    "data.drop('nst')"
   ]
  },
  {
   "cell_type": "code",
   "execution_count": 35,
   "id": "5af8d0e0",
   "metadata": {},
   "outputs": [
    {
     "ename": "KeyError",
     "evalue": "'nst'",
     "output_type": "error",
     "traceback": [
      "\u001b[0;31m---------------------------------------------------------------------------\u001b[0m",
      "\u001b[0;31mKeyError\u001b[0m                                  Traceback (most recent call last)",
      "File \u001b[0;32m/opt/homebrew/lib/python3.9/site-packages/pandas/core/indexes/base.py:3621\u001b[0m, in \u001b[0;36mIndex.get_loc\u001b[0;34m(self, key, method, tolerance)\u001b[0m\n\u001b[1;32m   3620\u001b[0m \u001b[38;5;28;01mtry\u001b[39;00m:\n\u001b[0;32m-> 3621\u001b[0m     \u001b[38;5;28;01mreturn\u001b[39;00m \u001b[38;5;28;43mself\u001b[39;49m\u001b[38;5;241;43m.\u001b[39;49m\u001b[43m_engine\u001b[49m\u001b[38;5;241;43m.\u001b[39;49m\u001b[43mget_loc\u001b[49m\u001b[43m(\u001b[49m\u001b[43mcasted_key\u001b[49m\u001b[43m)\u001b[49m\n\u001b[1;32m   3622\u001b[0m \u001b[38;5;28;01mexcept\u001b[39;00m \u001b[38;5;167;01mKeyError\u001b[39;00m \u001b[38;5;28;01mas\u001b[39;00m err:\n",
      "File \u001b[0;32m/opt/homebrew/lib/python3.9/site-packages/pandas/_libs/index.pyx:136\u001b[0m, in \u001b[0;36mpandas._libs.index.IndexEngine.get_loc\u001b[0;34m()\u001b[0m\n",
      "File \u001b[0;32m/opt/homebrew/lib/python3.9/site-packages/pandas/_libs/index.pyx:163\u001b[0m, in \u001b[0;36mpandas._libs.index.IndexEngine.get_loc\u001b[0;34m()\u001b[0m\n",
      "File \u001b[0;32mpandas/_libs/hashtable_class_helper.pxi:5198\u001b[0m, in \u001b[0;36mpandas._libs.hashtable.PyObjectHashTable.get_item\u001b[0;34m()\u001b[0m\n",
      "File \u001b[0;32mpandas/_libs/hashtable_class_helper.pxi:5206\u001b[0m, in \u001b[0;36mpandas._libs.hashtable.PyObjectHashTable.get_item\u001b[0;34m()\u001b[0m\n",
      "\u001b[0;31mKeyError\u001b[0m: 'nst'",
      "\nThe above exception was the direct cause of the following exception:\n",
      "\u001b[0;31mKeyError\u001b[0m                                  Traceback (most recent call last)",
      "Input \u001b[0;32mIn [35]\u001b[0m, in \u001b[0;36m<cell line: 1>\u001b[0;34m()\u001b[0m\n\u001b[0;32m----> 1\u001b[0m \u001b[38;5;28;01mdel\u001b[39;00m data[\u001b[38;5;124m\"\u001b[39m\u001b[38;5;124mnst\u001b[39m\u001b[38;5;124m\"\u001b[39m]\n",
      "File \u001b[0;32m/opt/homebrew/lib/python3.9/site-packages/pandas/core/generic.py:4060\u001b[0m, in \u001b[0;36mNDFrame.__delitem__\u001b[0;34m(self, key)\u001b[0m\n\u001b[1;32m   4055\u001b[0m             deleted \u001b[38;5;241m=\u001b[39m \u001b[38;5;28;01mTrue\u001b[39;00m\n\u001b[1;32m   4056\u001b[0m \u001b[38;5;28;01mif\u001b[39;00m \u001b[38;5;129;01mnot\u001b[39;00m deleted:\n\u001b[1;32m   4057\u001b[0m     \u001b[38;5;66;03m# If the above loop ran and didn't delete anything because\u001b[39;00m\n\u001b[1;32m   4058\u001b[0m     \u001b[38;5;66;03m# there was no match, this call should raise the appropriate\u001b[39;00m\n\u001b[1;32m   4059\u001b[0m     \u001b[38;5;66;03m# exception:\u001b[39;00m\n\u001b[0;32m-> 4060\u001b[0m     loc \u001b[38;5;241m=\u001b[39m \u001b[38;5;28;43mself\u001b[39;49m\u001b[38;5;241;43m.\u001b[39;49m\u001b[43maxes\u001b[49m\u001b[43m[\u001b[49m\u001b[38;5;241;43m-\u001b[39;49m\u001b[38;5;241;43m1\u001b[39;49m\u001b[43m]\u001b[49m\u001b[38;5;241;43m.\u001b[39;49m\u001b[43mget_loc\u001b[49m\u001b[43m(\u001b[49m\u001b[43mkey\u001b[49m\u001b[43m)\u001b[49m\n\u001b[1;32m   4061\u001b[0m     \u001b[38;5;28mself\u001b[39m\u001b[38;5;241m.\u001b[39m_mgr \u001b[38;5;241m=\u001b[39m \u001b[38;5;28mself\u001b[39m\u001b[38;5;241m.\u001b[39m_mgr\u001b[38;5;241m.\u001b[39midelete(loc)\n\u001b[1;32m   4063\u001b[0m \u001b[38;5;66;03m# delete from the caches\u001b[39;00m\n",
      "File \u001b[0;32m/opt/homebrew/lib/python3.9/site-packages/pandas/core/indexes/base.py:3623\u001b[0m, in \u001b[0;36mIndex.get_loc\u001b[0;34m(self, key, method, tolerance)\u001b[0m\n\u001b[1;32m   3621\u001b[0m     \u001b[38;5;28;01mreturn\u001b[39;00m \u001b[38;5;28mself\u001b[39m\u001b[38;5;241m.\u001b[39m_engine\u001b[38;5;241m.\u001b[39mget_loc(casted_key)\n\u001b[1;32m   3622\u001b[0m \u001b[38;5;28;01mexcept\u001b[39;00m \u001b[38;5;167;01mKeyError\u001b[39;00m \u001b[38;5;28;01mas\u001b[39;00m err:\n\u001b[0;32m-> 3623\u001b[0m     \u001b[38;5;28;01mraise\u001b[39;00m \u001b[38;5;167;01mKeyError\u001b[39;00m(key) \u001b[38;5;28;01mfrom\u001b[39;00m \u001b[38;5;21;01merr\u001b[39;00m\n\u001b[1;32m   3624\u001b[0m \u001b[38;5;28;01mexcept\u001b[39;00m \u001b[38;5;167;01mTypeError\u001b[39;00m:\n\u001b[1;32m   3625\u001b[0m     \u001b[38;5;66;03m# If we have a listlike key, _check_indexing_error will raise\u001b[39;00m\n\u001b[1;32m   3626\u001b[0m     \u001b[38;5;66;03m#  InvalidIndexError. Otherwise we fall through and re-raise\u001b[39;00m\n\u001b[1;32m   3627\u001b[0m     \u001b[38;5;66;03m#  the TypeError.\u001b[39;00m\n\u001b[1;32m   3628\u001b[0m     \u001b[38;5;28mself\u001b[39m\u001b[38;5;241m.\u001b[39m_check_indexing_error(key)\n",
      "\u001b[0;31mKeyError\u001b[0m: 'nst'"
     ]
    }
   ],
   "source": [
    "del data[\"nst\"]\n"
   ]
  },
  {
   "cell_type": "code",
   "execution_count": 10,
   "id": "66ab4027",
   "metadata": {},
   "outputs": [
    {
     "data": {
      "text/plain": [
       "time               0\n",
       "latitude           0\n",
       "longitude          0\n",
       "depth              0\n",
       "mag                0\n",
       "magType            0\n",
       "gap                0\n",
       "dmin               4\n",
       "rms                0\n",
       "net                0\n",
       "id                 0\n",
       "updated            0\n",
       "place              0\n",
       "type               0\n",
       "horizontalError    0\n",
       "depthError         0\n",
       "magError           0\n",
       "magNst             0\n",
       "status             0\n",
       "locationSource     0\n",
       "magSource          0\n",
       "dtype: int64"
      ]
     },
     "execution_count": 10,
     "metadata": {},
     "output_type": "execute_result"
    }
   ],
   "source": [
    "data.isnull().sum()"
   ]
  },
  {
   "cell_type": "code",
   "execution_count": 15,
   "id": "5d3c7a6d",
   "metadata": {},
   "outputs": [
    {
     "name": "stderr",
     "output_type": "stream",
     "text": [
      "/var/folders/kr/xx47jnl95sn711w47mjc2m1r0000gn/T/ipykernel_50390/3231489778.py:1: FutureWarning: Dropping of nuisance columns in DataFrame reductions (with 'numeric_only=None') is deprecated; in a future version this will raise TypeError.  Select only valid columns before calling the reduction.\n",
      "  data.fillna(data.mean())\n"
     ]
    },
    {
     "data": {
      "text/html": [
       "<div>\n",
       "<style scoped>\n",
       "    .dataframe tbody tr th:only-of-type {\n",
       "        vertical-align: middle;\n",
       "    }\n",
       "\n",
       "    .dataframe tbody tr th {\n",
       "        vertical-align: top;\n",
       "    }\n",
       "\n",
       "    .dataframe thead th {\n",
       "        text-align: right;\n",
       "    }\n",
       "</style>\n",
       "<table border=\"1\" class=\"dataframe\">\n",
       "  <thead>\n",
       "    <tr style=\"text-align: right;\">\n",
       "      <th></th>\n",
       "      <th>time</th>\n",
       "      <th>latitude</th>\n",
       "      <th>longitude</th>\n",
       "      <th>depth</th>\n",
       "      <th>mag</th>\n",
       "      <th>magType</th>\n",
       "      <th>gap</th>\n",
       "      <th>dmin</th>\n",
       "      <th>rms</th>\n",
       "      <th>net</th>\n",
       "      <th>...</th>\n",
       "      <th>updated</th>\n",
       "      <th>place</th>\n",
       "      <th>type</th>\n",
       "      <th>horizontalError</th>\n",
       "      <th>depthError</th>\n",
       "      <th>magError</th>\n",
       "      <th>magNst</th>\n",
       "      <th>status</th>\n",
       "      <th>locationSource</th>\n",
       "      <th>magSource</th>\n",
       "    </tr>\n",
       "  </thead>\n",
       "  <tbody>\n",
       "    <tr>\n",
       "      <th>0</th>\n",
       "      <td>2019-01-01T22:05:38.960Z</td>\n",
       "      <td>35.6831</td>\n",
       "      <td>140.2344</td>\n",
       "      <td>66.24</td>\n",
       "      <td>4.4</td>\n",
       "      <td>mb</td>\n",
       "      <td>141.0</td>\n",
       "      <td>1.855</td>\n",
       "      <td>0.66</td>\n",
       "      <td>us</td>\n",
       "      <td>...</td>\n",
       "      <td>2019-03-08T17:50:13.040Z</td>\n",
       "      <td>3 km S of Sakura, Japan</td>\n",
       "      <td>earthquake</td>\n",
       "      <td>2.9</td>\n",
       "      <td>8.6</td>\n",
       "      <td>0.115</td>\n",
       "      <td>22</td>\n",
       "      <td>reviewed</td>\n",
       "      <td>us</td>\n",
       "      <td>us</td>\n",
       "    </tr>\n",
       "    <tr>\n",
       "      <th>1</th>\n",
       "      <td>2019-01-02T15:11:16.070Z</td>\n",
       "      <td>39.4417</td>\n",
       "      <td>143.6408</td>\n",
       "      <td>21.01</td>\n",
       "      <td>4.5</td>\n",
       "      <td>mb</td>\n",
       "      <td>110.0</td>\n",
       "      <td>2.390</td>\n",
       "      <td>0.85</td>\n",
       "      <td>us</td>\n",
       "      <td>...</td>\n",
       "      <td>2019-03-08T17:50:21.040Z</td>\n",
       "      <td>145 km E of Yamada, Japan</td>\n",
       "      <td>earthquake</td>\n",
       "      <td>9.1</td>\n",
       "      <td>6.4</td>\n",
       "      <td>0.180</td>\n",
       "      <td>9</td>\n",
       "      <td>reviewed</td>\n",
       "      <td>us</td>\n",
       "      <td>us</td>\n",
       "    </tr>\n",
       "    <tr>\n",
       "      <th>2</th>\n",
       "      <td>2019-01-03T09:10:28.440Z</td>\n",
       "      <td>33.0514</td>\n",
       "      <td>130.4705</td>\n",
       "      <td>10.00</td>\n",
       "      <td>4.7</td>\n",
       "      <td>mb</td>\n",
       "      <td>97.0</td>\n",
       "      <td>0.348</td>\n",
       "      <td>0.60</td>\n",
       "      <td>us</td>\n",
       "      <td>...</td>\n",
       "      <td>2020-07-10T17:21:55.993Z</td>\n",
       "      <td>2 km NE of ?muta, Japan</td>\n",
       "      <td>earthquake</td>\n",
       "      <td>4.9</td>\n",
       "      <td>1.8</td>\n",
       "      <td>0.075</td>\n",
       "      <td>54</td>\n",
       "      <td>reviewed</td>\n",
       "      <td>us</td>\n",
       "      <td>us</td>\n",
       "    </tr>\n",
       "    <tr>\n",
       "      <th>3</th>\n",
       "      <td>2019-01-03T20:42:45.260Z</td>\n",
       "      <td>30.3888</td>\n",
       "      <td>138.0987</td>\n",
       "      <td>451.33</td>\n",
       "      <td>4.0</td>\n",
       "      <td>mb</td>\n",
       "      <td>113.0</td>\n",
       "      <td>3.085</td>\n",
       "      <td>0.75</td>\n",
       "      <td>us</td>\n",
       "      <td>...</td>\n",
       "      <td>2019-03-08T17:50:21.040Z</td>\n",
       "      <td>Izu Islands, Japan region</td>\n",
       "      <td>earthquake</td>\n",
       "      <td>11.0</td>\n",
       "      <td>5.8</td>\n",
       "      <td>0.073</td>\n",
       "      <td>50</td>\n",
       "      <td>reviewed</td>\n",
       "      <td>us</td>\n",
       "      <td>us</td>\n",
       "    </tr>\n",
       "    <tr>\n",
       "      <th>4</th>\n",
       "      <td>2019-01-04T22:05:07.080Z</td>\n",
       "      <td>32.8198</td>\n",
       "      <td>140.1248</td>\n",
       "      <td>98.35</td>\n",
       "      <td>4.3</td>\n",
       "      <td>mb</td>\n",
       "      <td>147.0</td>\n",
       "      <td>0.394</td>\n",
       "      <td>0.46</td>\n",
       "      <td>us</td>\n",
       "      <td>...</td>\n",
       "      <td>2019-03-08T17:50:21.040Z</td>\n",
       "      <td>233 km SSE of Shimoda, Japan</td>\n",
       "      <td>earthquake</td>\n",
       "      <td>12.0</td>\n",
       "      <td>4.7</td>\n",
       "      <td>0.080</td>\n",
       "      <td>44</td>\n",
       "      <td>reviewed</td>\n",
       "      <td>us</td>\n",
       "      <td>us</td>\n",
       "    </tr>\n",
       "    <tr>\n",
       "      <th>...</th>\n",
       "      <td>...</td>\n",
       "      <td>...</td>\n",
       "      <td>...</td>\n",
       "      <td>...</td>\n",
       "      <td>...</td>\n",
       "      <td>...</td>\n",
       "      <td>...</td>\n",
       "      <td>...</td>\n",
       "      <td>...</td>\n",
       "      <td>...</td>\n",
       "      <td>...</td>\n",
       "      <td>...</td>\n",
       "      <td>...</td>\n",
       "      <td>...</td>\n",
       "      <td>...</td>\n",
       "      <td>...</td>\n",
       "      <td>...</td>\n",
       "      <td>...</td>\n",
       "      <td>...</td>\n",
       "      <td>...</td>\n",
       "      <td>...</td>\n",
       "    </tr>\n",
       "    <tr>\n",
       "      <th>2530</th>\n",
       "      <td>2021-12-02T09:40:40.365Z</td>\n",
       "      <td>35.2206</td>\n",
       "      <td>141.3344</td>\n",
       "      <td>26.93</td>\n",
       "      <td>4.5</td>\n",
       "      <td>mb</td>\n",
       "      <td>135.0</td>\n",
       "      <td>2.449</td>\n",
       "      <td>0.77</td>\n",
       "      <td>us</td>\n",
       "      <td>...</td>\n",
       "      <td>2021-12-02T13:56:30.040Z</td>\n",
       "      <td>72 km SE of Hasaki, Japan</td>\n",
       "      <td>earthquake</td>\n",
       "      <td>5.7</td>\n",
       "      <td>5.6</td>\n",
       "      <td>0.140</td>\n",
       "      <td>15</td>\n",
       "      <td>reviewed</td>\n",
       "      <td>us</td>\n",
       "      <td>us</td>\n",
       "    </tr>\n",
       "    <tr>\n",
       "      <th>2531</th>\n",
       "      <td>2021-12-02T17:17:59.327Z</td>\n",
       "      <td>35.5454</td>\n",
       "      <td>139.0111</td>\n",
       "      <td>26.93</td>\n",
       "      <td>4.5</td>\n",
       "      <td>mb</td>\n",
       "      <td>114.0</td>\n",
       "      <td>1.100</td>\n",
       "      <td>0.76</td>\n",
       "      <td>us</td>\n",
       "      <td>...</td>\n",
       "      <td>2021-12-03T09:23:56.286Z</td>\n",
       "      <td>8 km SSE of ?tsuki, Japan</td>\n",
       "      <td>earthquake</td>\n",
       "      <td>4.6</td>\n",
       "      <td>5.0</td>\n",
       "      <td>0.106</td>\n",
       "      <td>26</td>\n",
       "      <td>reviewed</td>\n",
       "      <td>us</td>\n",
       "      <td>us</td>\n",
       "    </tr>\n",
       "    <tr>\n",
       "      <th>2532</th>\n",
       "      <td>2021-12-02T20:49:15.003Z</td>\n",
       "      <td>45.7785</td>\n",
       "      <td>142.5889</td>\n",
       "      <td>315.88</td>\n",
       "      <td>4.6</td>\n",
       "      <td>mb</td>\n",
       "      <td>77.0</td>\n",
       "      <td>1.186</td>\n",
       "      <td>0.75</td>\n",
       "      <td>us</td>\n",
       "      <td>...</td>\n",
       "      <td>2021-12-03T06:18:29.532Z</td>\n",
       "      <td>75 km NE of Makubetsu, Japan</td>\n",
       "      <td>earthquake</td>\n",
       "      <td>9.7</td>\n",
       "      <td>7.1</td>\n",
       "      <td>0.031</td>\n",
       "      <td>312</td>\n",
       "      <td>reviewed</td>\n",
       "      <td>us</td>\n",
       "      <td>us</td>\n",
       "    </tr>\n",
       "    <tr>\n",
       "      <th>2533</th>\n",
       "      <td>2021-12-02T21:37:48.182Z</td>\n",
       "      <td>35.5609</td>\n",
       "      <td>138.9939</td>\n",
       "      <td>22.08</td>\n",
       "      <td>4.4</td>\n",
       "      <td>mwr</td>\n",
       "      <td>92.0</td>\n",
       "      <td>1.103</td>\n",
       "      <td>0.78</td>\n",
       "      <td>us</td>\n",
       "      <td>...</td>\n",
       "      <td>2021-12-03T10:19:49.550Z</td>\n",
       "      <td>6 km SSE of ?tsuki, Japan</td>\n",
       "      <td>earthquake</td>\n",
       "      <td>3.3</td>\n",
       "      <td>4.6</td>\n",
       "      <td>0.075</td>\n",
       "      <td>17</td>\n",
       "      <td>reviewed</td>\n",
       "      <td>us</td>\n",
       "      <td>us</td>\n",
       "    </tr>\n",
       "    <tr>\n",
       "      <th>2534</th>\n",
       "      <td>2021-12-03T00:28:27.805Z</td>\n",
       "      <td>33.8302</td>\n",
       "      <td>135.0996</td>\n",
       "      <td>9.93</td>\n",
       "      <td>5.2</td>\n",
       "      <td>mww</td>\n",
       "      <td>61.0</td>\n",
       "      <td>1.023</td>\n",
       "      <td>0.59</td>\n",
       "      <td>us</td>\n",
       "      <td>...</td>\n",
       "      <td>2021-12-03T09:22:13.024Z</td>\n",
       "      <td>8 km SW of Gob?, Japan</td>\n",
       "      <td>earthquake</td>\n",
       "      <td>2.5</td>\n",
       "      <td>4.0</td>\n",
       "      <td>0.098</td>\n",
       "      <td>10</td>\n",
       "      <td>reviewed</td>\n",
       "      <td>us</td>\n",
       "      <td>us</td>\n",
       "    </tr>\n",
       "  </tbody>\n",
       "</table>\n",
       "<p>2535 rows × 21 columns</p>\n",
       "</div>"
      ],
      "text/plain": [
       "                          time  latitude  longitude   depth  mag magType  \\\n",
       "0     2019-01-01T22:05:38.960Z   35.6831   140.2344   66.24  4.4      mb   \n",
       "1     2019-01-02T15:11:16.070Z   39.4417   143.6408   21.01  4.5      mb   \n",
       "2     2019-01-03T09:10:28.440Z   33.0514   130.4705   10.00  4.7      mb   \n",
       "3     2019-01-03T20:42:45.260Z   30.3888   138.0987  451.33  4.0      mb   \n",
       "4     2019-01-04T22:05:07.080Z   32.8198   140.1248   98.35  4.3      mb   \n",
       "...                        ...       ...        ...     ...  ...     ...   \n",
       "2530  2021-12-02T09:40:40.365Z   35.2206   141.3344   26.93  4.5      mb   \n",
       "2531  2021-12-02T17:17:59.327Z   35.5454   139.0111   26.93  4.5      mb   \n",
       "2532  2021-12-02T20:49:15.003Z   45.7785   142.5889  315.88  4.6      mb   \n",
       "2533  2021-12-02T21:37:48.182Z   35.5609   138.9939   22.08  4.4     mwr   \n",
       "2534  2021-12-03T00:28:27.805Z   33.8302   135.0996    9.93  5.2     mww   \n",
       "\n",
       "        gap   dmin   rms net  ...                   updated  \\\n",
       "0     141.0  1.855  0.66  us  ...  2019-03-08T17:50:13.040Z   \n",
       "1     110.0  2.390  0.85  us  ...  2019-03-08T17:50:21.040Z   \n",
       "2      97.0  0.348  0.60  us  ...  2020-07-10T17:21:55.993Z   \n",
       "3     113.0  3.085  0.75  us  ...  2019-03-08T17:50:21.040Z   \n",
       "4     147.0  0.394  0.46  us  ...  2019-03-08T17:50:21.040Z   \n",
       "...     ...    ...   ...  ..  ...                       ...   \n",
       "2530  135.0  2.449  0.77  us  ...  2021-12-02T13:56:30.040Z   \n",
       "2531  114.0  1.100  0.76  us  ...  2021-12-03T09:23:56.286Z   \n",
       "2532   77.0  1.186  0.75  us  ...  2021-12-03T06:18:29.532Z   \n",
       "2533   92.0  1.103  0.78  us  ...  2021-12-03T10:19:49.550Z   \n",
       "2534   61.0  1.023  0.59  us  ...  2021-12-03T09:22:13.024Z   \n",
       "\n",
       "                             place        type horizontalError  depthError  \\\n",
       "0          3 km S of Sakura, Japan  earthquake             2.9         8.6   \n",
       "1        145 km E of Yamada, Japan  earthquake             9.1         6.4   \n",
       "2          2 km NE of ?muta, Japan  earthquake             4.9         1.8   \n",
       "3        Izu Islands, Japan region  earthquake            11.0         5.8   \n",
       "4     233 km SSE of Shimoda, Japan  earthquake            12.0         4.7   \n",
       "...                            ...         ...             ...         ...   \n",
       "2530     72 km SE of Hasaki, Japan  earthquake             5.7         5.6   \n",
       "2531     8 km SSE of ?tsuki, Japan  earthquake             4.6         5.0   \n",
       "2532  75 km NE of Makubetsu, Japan  earthquake             9.7         7.1   \n",
       "2533     6 km SSE of ?tsuki, Japan  earthquake             3.3         4.6   \n",
       "2534        8 km SW of Gob?, Japan  earthquake             2.5         4.0   \n",
       "\n",
       "      magError  magNst    status locationSource magSource  \n",
       "0        0.115      22  reviewed             us        us  \n",
       "1        0.180       9  reviewed             us        us  \n",
       "2        0.075      54  reviewed             us        us  \n",
       "3        0.073      50  reviewed             us        us  \n",
       "4        0.080      44  reviewed             us        us  \n",
       "...        ...     ...       ...            ...       ...  \n",
       "2530     0.140      15  reviewed             us        us  \n",
       "2531     0.106      26  reviewed             us        us  \n",
       "2532     0.031     312  reviewed             us        us  \n",
       "2533     0.075      17  reviewed             us        us  \n",
       "2534     0.098      10  reviewed             us        us  \n",
       "\n",
       "[2535 rows x 21 columns]"
      ]
     },
     "execution_count": 15,
     "metadata": {},
     "output_type": "execute_result"
    }
   ],
   "source": [
    "data.fillna(data.mean())"
   ]
  },
  {
   "cell_type": "code",
   "execution_count": 11,
   "id": "3d0f84da",
   "metadata": {},
   "outputs": [
    {
     "data": {
      "text/plain": [
       "time               0\n",
       "latitude           0\n",
       "longitude          0\n",
       "depth              0\n",
       "mag                0\n",
       "magType            0\n",
       "gap                0\n",
       "dmin               4\n",
       "rms                0\n",
       "net                0\n",
       "id                 0\n",
       "updated            0\n",
       "place              0\n",
       "type               0\n",
       "horizontalError    0\n",
       "depthError         0\n",
       "magError           0\n",
       "magNst             0\n",
       "status             0\n",
       "locationSource     0\n",
       "magSource          0\n",
       "dtype: int64"
      ]
     },
     "execution_count": 11,
     "metadata": {},
     "output_type": "execute_result"
    }
   ],
   "source": [
    "data.isnull().sum()"
   ]
  },
  {
   "cell_type": "code",
   "execution_count": 32,
   "id": "9f322b09",
   "metadata": {},
   "outputs": [],
   "source": [
    "del data[\"place\"]"
   ]
  },
  {
   "cell_type": "code",
   "execution_count": 33,
   "id": "88461862",
   "metadata": {},
   "outputs": [],
   "source": [
    "data['mag'] = data['mag'].fillna(4.515976)"
   ]
  },
  {
   "cell_type": "code",
   "execution_count": 34,
   "id": "af0fe77a",
   "metadata": {},
   "outputs": [
    {
     "data": {
      "text/plain": [
       "time               0\n",
       "latitude           0\n",
       "longitude          0\n",
       "depth              0\n",
       "mag                0\n",
       "magType            0\n",
       "gap                0\n",
       "dmin               4\n",
       "rms                0\n",
       "net                0\n",
       "id                 0\n",
       "updated            0\n",
       "type               0\n",
       "horizontalError    0\n",
       "depthError         0\n",
       "magError           0\n",
       "magNst             0\n",
       "status             0\n",
       "locationSource     0\n",
       "magSource          0\n",
       "dtype: int64"
      ]
     },
     "execution_count": 34,
     "metadata": {},
     "output_type": "execute_result"
    }
   ],
   "source": [
    "data.isnull().sum()\n"
   ]
  },
  {
   "cell_type": "code",
   "execution_count": 20,
   "id": "f293eb2b",
   "metadata": {},
   "outputs": [],
   "source": [
    "data['magError'] = data['magError'].fillna(0.110601)"
   ]
  },
  {
   "cell_type": "code",
   "execution_count": 21,
   "id": "b4e5c90c",
   "metadata": {},
   "outputs": [
    {
     "data": {
      "text/plain": [
       "time               0\n",
       "latitude           0\n",
       "longitude          0\n",
       "depth              0\n",
       "mag                0\n",
       "magType            0\n",
       "gap                0\n",
       "dmin               0\n",
       "rms                0\n",
       "net                0\n",
       "id                 0\n",
       "updated            0\n",
       "type               0\n",
       "horizontalError    0\n",
       "depthError         0\n",
       "magError           0\n",
       "magNst             0\n",
       "status             0\n",
       "locationSource     0\n",
       "magSource          0\n",
       "dtype: int64"
      ]
     },
     "execution_count": 21,
     "metadata": {},
     "output_type": "execute_result"
    }
   ],
   "source": [
    "data.isnull().sum()"
   ]
  },
  {
   "cell_type": "code",
   "execution_count": 22,
   "id": "d60cf802",
   "metadata": {},
   "outputs": [],
   "source": [
    "#visualization"
   ]
  },
  {
   "cell_type": "code",
   "execution_count": 12,
   "id": "727b7acd",
   "metadata": {},
   "outputs": [
    {
     "data": {
      "text/plain": [
       "<seaborn.axisgrid.FacetGrid at 0x132e614c0>"
      ]
     },
     "execution_count": 12,
     "metadata": {},
     "output_type": "execute_result"
    },
    {
     "data": {
      "image/png": "[encoded data removed]",
      "text/plain": [
       "<Figure size 360x360 with 1 Axes>"
      ]
     },
     "metadata": {
      "needs_background": "light"
     },
     "output_type": "display_data"
    }
   ],
   "source": [
    "sns.relplot(x='mag',y='time',data=data)"
   ]
  },
  {
   "cell_type": "code",
   "execution_count": 24,
   "id": "71a62714",
   "metadata": {},
   "outputs": [
    {
     "ename": "ModuleNotFoundError",
     "evalue": "No module named 'seaborn'",
     "output_type": "error",
     "traceback": [
      "\u001b[0;31m---------------------------------------------------------------------------\u001b[0m",
      "\u001b[0;31mModuleNotFoundError\u001b[0m                       Traceback (most recent call last)",
      "Input \u001b[0;32mIn [24]\u001b[0m, in \u001b[0;36m<cell line: 1>\u001b[0;34m()\u001b[0m\n\u001b[0;32m----> 1\u001b[0m \u001b[38;5;28;01mimport\u001b[39;00m \u001b[38;5;21;01mseaborn\u001b[39;00m \u001b[38;5;28;01mas\u001b[39;00m \u001b[38;5;21;01msns\u001b[39;00m\n",
      "\u001b[0;31mModuleNotFoundError\u001b[0m: No module named 'seaborn'"
     ]
    }
   ],
   "source": [
    "import seaborn as sns"
   ]
  },
  {
   "cell_type": "code",
   "execution_count": 1,
   "id": "d2320260",
   "metadata": {},
   "outputs": [
    {
     "ename": "SyntaxError",
     "evalue": "invalid non-printable character U+00A0 (623493854.py, line 1)",
     "output_type": "error",
     "traceback": [
      "\u001b[0;36m  Input \u001b[0;32mIn [1]\u001b[0;36m\u001b[0m\n\u001b[0;31m    import seaborn as sns\u001b[0m\n\u001b[0m    ^\u001b[0m\n\u001b[0;31mSyntaxError\u001b[0m\u001b[0;31m:\u001b[0m invalid non-printable character U+00A0\n"
     ]
    }
   ],
   "source": [
    " import seaborn as sns"
   ]
  },
  {
   "cell_type": "code",
   "execution_count": 2,
   "id": "fd7bfcdc",
   "metadata": {},
   "outputs": [],
   "source": [
    "import pandas as pd\n",
    "import seaborn as sns\n",
    "import numpy as np"
   ]
  },
  {
   "cell_type": "code",
   "execution_count": 5,
   "id": "327c021c",
   "metadata": {},
   "outputs": [
    {
     "ename": "NameError",
     "evalue": "name 'data' is not defined",
     "output_type": "error",
     "traceback": [
      "\u001b[0;31m---------------------------------------------------------------------------\u001b[0m",
      "\u001b[0;31mNameError\u001b[0m                                 Traceback (most recent call last)",
      "Input \u001b[0;32mIn [5]\u001b[0m, in \u001b[0;36m<cell line: 1>\u001b[0;34m()\u001b[0m\n\u001b[0;32m----> 1\u001b[0m sns\u001b[38;5;241m.\u001b[39mrelplot(x\u001b[38;5;241m=\u001b[39m\u001b[38;5;124m'\u001b[39m\u001b[38;5;124mmag\u001b[39m\u001b[38;5;124m'\u001b[39m,y\u001b[38;5;241m=\u001b[39m\u001b[38;5;124m'\u001b[39m\u001b[38;5;124mtime\u001b[39m\u001b[38;5;124m'\u001b[39m,data\u001b[38;5;241m=\u001b[39m\u001b[43mdata\u001b[49m)\n",
      "\u001b[0;31mNameError\u001b[0m: name 'data' is not defined"
     ]
    }
   ],
   "source": [
    "sns.relplot(x='mag',y='time',data=data)"
   ]
  },
  {
   "cell_type": "code",
   "execution_count": 6,
   "id": "2d775e47",
   "metadata": {},
   "outputs": [
    {
     "ename": "NameError",
     "evalue": "name 'data' is not defined",
     "output_type": "error",
     "traceback": [
      "\u001b[0;31m---------------------------------------------------------------------------\u001b[0m",
      "\u001b[0;31mNameError\u001b[0m                                 Traceback (most recent call last)",
      "Input \u001b[0;32mIn [6]\u001b[0m, in \u001b[0;36m<cell line: 1>\u001b[0;34m()\u001b[0m\n\u001b[0;32m----> 1\u001b[0m sns\u001b[38;5;241m.\u001b[39mrelplot(x\u001b[38;5;241m=\u001b[39m\u001b[38;5;124m'\u001b[39m\u001b[38;5;124mmag\u001b[39m\u001b[38;5;124m'\u001b[39m,y\u001b[38;5;241m=\u001b[39m\u001b[38;5;124m'\u001b[39m\u001b[38;5;124mtime\u001b[39m\u001b[38;5;124m'\u001b[39m,data\u001b[38;5;241m=\u001b[39m\u001b[43mdata\u001b[49m)\n",
      "\u001b[0;31mNameError\u001b[0m: name 'data' is not defined"
     ]
    }
   ],
   "source": [
    "sns.relplot(x='mag',y='time',data=data)"
   ]
  },
  {
   "cell_type": "code",
   "execution_count": 3,
   "id": "986e2ddd",
   "metadata": {},
   "outputs": [],
   "source": [
    "data = pd.read_csv(\"/Users/harmansahota/Desktop/life/prediction/japan-earthquakes-data.csv\")"
   ]
  },
  {
   "cell_type": "code",
   "execution_count": 9,
   "id": "e12f2ad5",
   "metadata": {
    "scrolled": false
   },
   "outputs": [
    {
     "data": {
      "text/plain": [
       "<seaborn.axisgrid.FacetGrid at 0x1045310a0>"
      ]
     },
     "execution_count": 9,
     "metadata": {},
     "output_type": "execute_result"
    },
    {
     "data": {
      "image/png": "[encoded data removed]",
      "text/plain": [
       "<Figure size 360x360 with 1 Axes>"
      ]
     },
     "metadata": {
      "needs_background": "light"
     },
     "output_type": "display_data"
    }
   ],
   "source": [
    "sns.relplot(x='mag',y='time',data=data)"
   ]
  },
  {
   "cell_type": "code",
   "execution_count": 4,
   "id": "5639b5d8",
   "metadata": {},
   "outputs": [
    {
     "data": {
      "text/html": [
       "<div>\n",
       "<style scoped>\n",
       "    .dataframe tbody tr th:only-of-type {\n",
       "        vertical-align: middle;\n",
       "    }\n",
       "\n",
       "    .dataframe tbody tr th {\n",
       "        vertical-align: top;\n",
       "    }\n",
       "\n",
       "    .dataframe thead th {\n",
       "        text-align: right;\n",
       "    }\n",
       "</style>\n",
       "<table border=\"1\" class=\"dataframe\">\n",
       "  <thead>\n",
       "    <tr style=\"text-align: right;\">\n",
       "      <th></th>\n",
       "      <th>time</th>\n",
       "      <th>latitude</th>\n",
       "      <th>longitude</th>\n",
       "      <th>depth</th>\n",
       "      <th>mag</th>\n",
       "      <th>magType</th>\n",
       "      <th>nst</th>\n",
       "      <th>gap</th>\n",
       "      <th>dmin</th>\n",
       "      <th>rms</th>\n",
       "      <th>...</th>\n",
       "      <th>updated</th>\n",
       "      <th>place</th>\n",
       "      <th>type</th>\n",
       "      <th>horizontalError</th>\n",
       "      <th>depthError</th>\n",
       "      <th>magError</th>\n",
       "      <th>magNst</th>\n",
       "      <th>status</th>\n",
       "      <th>locationSource</th>\n",
       "      <th>magSource</th>\n",
       "    </tr>\n",
       "  </thead>\n",
       "  <tbody>\n",
       "    <tr>\n",
       "      <th>0</th>\n",
       "      <td>2019-01-01T22:05:38.960Z</td>\n",
       "      <td>35.6831</td>\n",
       "      <td>140.2344</td>\n",
       "      <td>66.24</td>\n",
       "      <td>4.4</td>\n",
       "      <td>mb</td>\n",
       "      <td>NaN</td>\n",
       "      <td>141.0</td>\n",
       "      <td>1.855</td>\n",
       "      <td>0.66</td>\n",
       "      <td>...</td>\n",
       "      <td>2019-03-08T17:50:13.040Z</td>\n",
       "      <td>3 km S of Sakura, Japan</td>\n",
       "      <td>earthquake</td>\n",
       "      <td>2.9</td>\n",
       "      <td>8.6</td>\n",
       "      <td>0.115</td>\n",
       "      <td>22</td>\n",
       "      <td>reviewed</td>\n",
       "      <td>us</td>\n",
       "      <td>us</td>\n",
       "    </tr>\n",
       "    <tr>\n",
       "      <th>1</th>\n",
       "      <td>2019-01-02T15:11:16.070Z</td>\n",
       "      <td>39.4417</td>\n",
       "      <td>143.6408</td>\n",
       "      <td>21.01</td>\n",
       "      <td>4.5</td>\n",
       "      <td>mb</td>\n",
       "      <td>NaN</td>\n",
       "      <td>110.0</td>\n",
       "      <td>2.390</td>\n",
       "      <td>0.85</td>\n",
       "      <td>...</td>\n",
       "      <td>2019-03-08T17:50:21.040Z</td>\n",
       "      <td>145 km E of Yamada, Japan</td>\n",
       "      <td>earthquake</td>\n",
       "      <td>9.1</td>\n",
       "      <td>6.4</td>\n",
       "      <td>0.180</td>\n",
       "      <td>9</td>\n",
       "      <td>reviewed</td>\n",
       "      <td>us</td>\n",
       "      <td>us</td>\n",
       "    </tr>\n",
       "    <tr>\n",
       "      <th>2</th>\n",
       "      <td>2019-01-03T09:10:28.440Z</td>\n",
       "      <td>33.0514</td>\n",
       "      <td>130.4705</td>\n",
       "      <td>10.00</td>\n",
       "      <td>4.7</td>\n",
       "      <td>mb</td>\n",
       "      <td>NaN</td>\n",
       "      <td>97.0</td>\n",
       "      <td>0.348</td>\n",
       "      <td>0.60</td>\n",
       "      <td>...</td>\n",
       "      <td>2020-07-10T17:21:55.993Z</td>\n",
       "      <td>2 km NE of ?muta, Japan</td>\n",
       "      <td>earthquake</td>\n",
       "      <td>4.9</td>\n",
       "      <td>1.8</td>\n",
       "      <td>0.075</td>\n",
       "      <td>54</td>\n",
       "      <td>reviewed</td>\n",
       "      <td>us</td>\n",
       "      <td>us</td>\n",
       "    </tr>\n",
       "    <tr>\n",
       "      <th>3</th>\n",
       "      <td>2019-01-03T20:42:45.260Z</td>\n",
       "      <td>30.3888</td>\n",
       "      <td>138.0987</td>\n",
       "      <td>451.33</td>\n",
       "      <td>4.0</td>\n",
       "      <td>mb</td>\n",
       "      <td>NaN</td>\n",
       "      <td>113.0</td>\n",
       "      <td>3.085</td>\n",
       "      <td>0.75</td>\n",
       "      <td>...</td>\n",
       "      <td>2019-03-08T17:50:21.040Z</td>\n",
       "      <td>Izu Islands, Japan region</td>\n",
       "      <td>earthquake</td>\n",
       "      <td>11.0</td>\n",
       "      <td>5.8</td>\n",
       "      <td>0.073</td>\n",
       "      <td>50</td>\n",
       "      <td>reviewed</td>\n",
       "      <td>us</td>\n",
       "      <td>us</td>\n",
       "    </tr>\n",
       "    <tr>\n",
       "      <th>4</th>\n",
       "      <td>2019-01-04T22:05:07.080Z</td>\n",
       "      <td>32.8198</td>\n",
       "      <td>140.1248</td>\n",
       "      <td>98.35</td>\n",
       "      <td>4.3</td>\n",
       "      <td>mb</td>\n",
       "      <td>NaN</td>\n",
       "      <td>147.0</td>\n",
       "      <td>0.394</td>\n",
       "      <td>0.46</td>\n",
       "      <td>...</td>\n",
       "      <td>2019-03-08T17:50:21.040Z</td>\n",
       "      <td>233 km SSE of Shimoda, Japan</td>\n",
       "      <td>earthquake</td>\n",
       "      <td>12.0</td>\n",
       "      <td>4.7</td>\n",
       "      <td>0.080</td>\n",
       "      <td>44</td>\n",
       "      <td>reviewed</td>\n",
       "      <td>us</td>\n",
       "      <td>us</td>\n",
       "    </tr>\n",
       "  </tbody>\n",
       "</table>\n",
       "<p>5 rows × 22 columns</p>\n",
       "</div>"
      ],
      "text/plain": [
       "                       time  latitude  longitude   depth  mag magType  nst  \\\n",
       "0  2019-01-01T22:05:38.960Z   35.6831   140.2344   66.24  4.4      mb  NaN   \n",
       "1  2019-01-02T15:11:16.070Z   39.4417   143.6408   21.01  4.5      mb  NaN   \n",
       "2  2019-01-03T09:10:28.440Z   33.0514   130.4705   10.00  4.7      mb  NaN   \n",
       "3  2019-01-03T20:42:45.260Z   30.3888   138.0987  451.33  4.0      mb  NaN   \n",
       "4  2019-01-04T22:05:07.080Z   32.8198   140.1248   98.35  4.3      mb  NaN   \n",
       "\n",
       "     gap   dmin   rms  ...                   updated  \\\n",
       "0  141.0  1.855  0.66  ...  2019-03-08T17:50:13.040Z   \n",
       "1  110.0  2.390  0.85  ...  2019-03-08T17:50:21.040Z   \n",
       "2   97.0  0.348  0.60  ...  2020-07-10T17:21:55.993Z   \n",
       "3  113.0  3.085  0.75  ...  2019-03-08T17:50:21.040Z   \n",
       "4  147.0  0.394  0.46  ...  2019-03-08T17:50:21.040Z   \n",
       "\n",
       "                          place        type horizontalError depthError  \\\n",
       "0       3 km S of Sakura, Japan  earthquake             2.9        8.6   \n",
       "1     145 km E of Yamada, Japan  earthquake             9.1        6.4   \n",
       "2       2 km NE of ?muta, Japan  earthquake             4.9        1.8   \n",
       "3     Izu Islands, Japan region  earthquake            11.0        5.8   \n",
       "4  233 km SSE of Shimoda, Japan  earthquake            12.0        4.7   \n",
       "\n",
       "   magError  magNst    status  locationSource magSource  \n",
       "0     0.115      22  reviewed              us        us  \n",
       "1     0.180       9  reviewed              us        us  \n",
       "2     0.075      54  reviewed              us        us  \n",
       "3     0.073      50  reviewed              us        us  \n",
       "4     0.080      44  reviewed              us        us  \n",
       "\n",
       "[5 rows x 22 columns]"
      ]
     },
     "execution_count": 4,
     "metadata": {},
     "output_type": "execute_result"
    }
   ],
   "source": [
    "data.head()"
   ]
  },
  {
   "cell_type": "code",
   "execution_count": 5,
   "id": "5c46ee3b",
   "metadata": {},
   "outputs": [
    {
     "data": {
      "text/plain": [
       "time                  0\n",
       "latitude              0\n",
       "longitude             0\n",
       "depth                 0\n",
       "mag                   0\n",
       "magType               0\n",
       "nst                2534\n",
       "gap                   0\n",
       "dmin                  0\n",
       "rms                   0\n",
       "net                   0\n",
       "id                    0\n",
       "updated               0\n",
       "place                 5\n",
       "type                  0\n",
       "horizontalError       0\n",
       "depthError            0\n",
       "magError              1\n",
       "magNst                0\n",
       "status                0\n",
       "locationSource        0\n",
       "magSource             0\n",
       "dtype: int64"
      ]
     },
     "execution_count": 5,
     "metadata": {},
     "output_type": "execute_result"
    }
   ],
   "source": [
    "data.isnull().sum()"
   ]
  },
  {
   "cell_type": "code",
   "execution_count": 6,
   "id": "05fb8930",
   "metadata": {},
   "outputs": [],
   "source": [
    "del data[\"nst\"]"
   ]
  },
  {
   "cell_type": "code",
   "execution_count": 7,
   "id": "d79106ca",
   "metadata": {},
   "outputs": [],
   "source": [
    "del data[\"place\"]"
   ]
  },
  {
   "cell_type": "code",
   "execution_count": 8,
   "id": "6c662f7a",
   "metadata": {},
   "outputs": [],
   "source": [
    "data['magError'] = data['magError'].fillna(0.110601)"
   ]
  },
  {
   "cell_type": "code",
   "execution_count": 9,
   "id": "04cfa4c7",
   "metadata": {},
   "outputs": [
    {
     "data": {
      "text/plain": [
       "time               0\n",
       "latitude           0\n",
       "longitude          0\n",
       "depth              0\n",
       "mag                0\n",
       "magType            0\n",
       "gap                0\n",
       "dmin               0\n",
       "rms                0\n",
       "net                0\n",
       "id                 0\n",
       "updated            0\n",
       "type               0\n",
       "horizontalError    0\n",
       "depthError         0\n",
       "magError           0\n",
       "magNst             0\n",
       "status             0\n",
       "locationSource     0\n",
       "magSource          0\n",
       "dtype: int64"
      ]
     },
     "execution_count": 9,
     "metadata": {},
     "output_type": "execute_result"
    }
   ],
   "source": [
    "data.isnull().sum()"
   ]
  },
  {
   "cell_type": "code",
   "execution_count": 16,
   "id": "e75b5fab",
   "metadata": {},
   "outputs": [
    {
     "data": {
      "text/plain": [
       "<seaborn.axisgrid.FacetGrid at 0x16b6a1d00>"
      ]
     },
     "execution_count": 16,
     "metadata": {},
     "output_type": "execute_result"
    },
    {
     "data": {
      "image/png": "[encoded data removed]",
      "text/plain": [
       "<Figure size 360x360 with 1 Axes>"
      ]
     },
     "metadata": {
      "needs_background": "light"
     },
     "output_type": "display_data"
    }
   ],
   "source": [
    "sns.relplot(x='mag',y='longitude',data=data)"
   ]
  },
  {
   "cell_type": "code",
   "execution_count": 10,
   "id": "245fc11f",
   "metadata": {},
   "outputs": [
    {
     "data": {
      "text/plain": [
       "time               0\n",
       "latitude           0\n",
       "longitude          0\n",
       "depth              0\n",
       "mag                0\n",
       "magType            0\n",
       "gap                0\n",
       "dmin               0\n",
       "rms                0\n",
       "net                0\n",
       "id                 0\n",
       "updated            0\n",
       "type               0\n",
       "horizontalError    0\n",
       "depthError         0\n",
       "magError           0\n",
       "magNst             0\n",
       "status             0\n",
       "locationSource     0\n",
       "magSource          0\n",
       "dtype: int64"
      ]
     },
     "execution_count": 10,
     "metadata": {},
     "output_type": "execute_result"
    }
   ],
   "source": [
    "data.isnull().sum()"
   ]
  },
  {
   "cell_type": "code",
   "execution_count": 18,
   "id": "6fc30197",
   "metadata": {},
   "outputs": [],
   "source": [
    "#model\n"
   ]
  },
  {
   "cell_type": "code",
   "execution_count": 13,
   "id": "595521da",
   "metadata": {},
   "outputs": [],
   "source": [
    "from sklearn.linear_model import LinearRegression"
   ]
  },
  {
   "cell_type": "code",
   "execution_count": 14,
   "id": "a120b9ba",
   "metadata": {},
   "outputs": [],
   "source": [
    "from sklearn.model_selection import train_test_split"
   ]
  },
  {
   "cell_type": "code",
   "execution_count": 15,
   "id": "656cdc08",
   "metadata": {},
   "outputs": [
    {
     "ename": "TypeError",
     "evalue": "'method' object is not subscriptable",
     "output_type": "error",
     "traceback": [
      "\u001b[0;31m---------------------------------------------------------------------------\u001b[0m",
      "\u001b[0;31mTypeError\u001b[0m                                 Traceback (most recent call last)",
      "Input \u001b[0;32mIn [15]\u001b[0m, in \u001b[0;36m<cell line: 1>\u001b[0;34m()\u001b[0m\n\u001b[0;32m----> 1\u001b[0m train \u001b[38;5;241m=\u001b[39m \u001b[43mdata\u001b[49m\u001b[38;5;241;43m.\u001b[39;49m\u001b[43mdrop\u001b[49m\u001b[43m[\u001b[49m\u001b[38;5;124;43m'\u001b[39;49m\u001b[38;5;124;43mtime\u001b[39;49m\u001b[38;5;124;43m'\u001b[39;49m\u001b[43m,\u001b[49m\u001b[38;5;124;43m'\u001b[39;49m\u001b[38;5;124;43mdepth\u001b[39;49m\u001b[38;5;124;43m'\u001b[39;49m\u001b[43m,\u001b[49m\u001b[38;5;124;43m'\u001b[39;49m\u001b[38;5;124;43mmagType\u001b[39;49m\u001b[38;5;124;43m'\u001b[39;49m\u001b[43m,\u001b[49m\u001b[38;5;124;43m'\u001b[39;49m\u001b[38;5;124;43mgap\u001b[39;49m\u001b[38;5;124;43m'\u001b[39;49m\u001b[43m,\u001b[49m\u001b[38;5;124;43m'\u001b[39;49m\u001b[38;5;124;43mdmin\u001b[39;49m\u001b[38;5;124;43m'\u001b[39;49m\u001b[43m,\u001b[49m\u001b[38;5;124;43m'\u001b[39;49m\u001b[38;5;124;43mrms\u001b[39;49m\u001b[38;5;124;43m'\u001b[39;49m\u001b[43m,\u001b[49m\u001b[38;5;124;43m'\u001b[39;49m\u001b[38;5;124;43mnet\u001b[39;49m\u001b[38;5;124;43m'\u001b[39;49m\u001b[43m,\u001b[49m\u001b[38;5;124;43m'\u001b[39;49m\u001b[38;5;124;43mid\u001b[39;49m\u001b[38;5;124;43m'\u001b[39;49m\u001b[43m,\u001b[49m\u001b[38;5;124;43m'\u001b[39;49m\u001b[38;5;124;43mupdated\u001b[39;49m\u001b[38;5;124;43m'\u001b[39;49m\u001b[43m,\u001b[49m\u001b[38;5;124;43m'\u001b[39;49m\u001b[38;5;124;43mtype\u001b[39;49m\u001b[38;5;124;43m'\u001b[39;49m\u001b[43m,\u001b[49m\u001b[38;5;124;43m'\u001b[39;49m\u001b[38;5;124;43mhorizontalError\u001b[39;49m\u001b[38;5;124;43m'\u001b[39;49m\u001b[43m,\u001b[49m\u001b[38;5;124;43m'\u001b[39;49m\u001b[38;5;124;43mdepthError\u001b[39;49m\u001b[38;5;124;43m'\u001b[39;49m\u001b[43m,\u001b[49m\u001b[38;5;124;43m'\u001b[39;49m\u001b[38;5;124;43mmagNst\u001b[39;49m\u001b[38;5;124;43m'\u001b[39;49m\u001b[43m,\u001b[49m\u001b[38;5;124;43m'\u001b[39;49m\u001b[38;5;124;43mstatus\u001b[39;49m\u001b[38;5;124;43m'\u001b[39;49m\u001b[43m,\u001b[49m\u001b[38;5;124;43m'\u001b[39;49m\u001b[38;5;124;43mlocationSource\u001b[39;49m\u001b[38;5;124;43m'\u001b[39;49m\u001b[43m,\u001b[49m\u001b[38;5;124;43m'\u001b[39;49m\u001b[38;5;124;43mmagSource\u001b[39;49m\u001b[38;5;124;43m'\u001b[39;49m\u001b[43m]\u001b[49m\n",
      "\u001b[0;31mTypeError\u001b[0m: 'method' object is not subscriptable"
     ]
    }
   ],
   "source": [
    "train = data.drop['time','depth','magType','gap','dmin','rms','net','id','updated','type','horizontalError','depthError','magNst','status','locationSource','magSource']"
   ]
  },
  {
   "cell_type": "code",
   "execution_count": 54,
   "id": "c216c405",
   "metadata": {},
   "outputs": [],
   "source": [
    "train = data.drop([\"longitude\",'time','depth','magType','gap','dmin','rms','net','id','updated','type','horizontalError','depthError','magNst','status','locationSource','magSource'],axis=1)"
   ]
  },
  {
   "cell_type": "code",
   "execution_count": 55,
   "id": "fda96a4f",
   "metadata": {},
   "outputs": [],
   "source": [
    "test = data['longitude']"
   ]
  },
  {
   "cell_type": "code",
   "execution_count": 56,
   "id": "bcfd78cc",
   "metadata": {},
   "outputs": [],
   "source": [
    "X_train,X_test,y_train,y_test = train_test_split(train,test,test_size = 0.3,random_state = 2)"
   ]
  },
  {
   "cell_type": "code",
   "execution_count": 57,
   "id": "6d9e826b",
   "metadata": {},
   "outputs": [],
   "source": [
    "regr = LinearRegression()"
   ]
  },
  {
   "cell_type": "code",
   "execution_count": 58,
   "id": "91a97bf0",
   "metadata": {
    "scrolled": true
   },
   "outputs": [
    {
     "data": {
      "text/plain": [
       "LinearRegression()"
      ]
     },
     "execution_count": 58,
     "metadata": {},
     "output_type": "execute_result"
    }
   ],
   "source": [
    "regr.fit(X_train,y_train)"
   ]
  },
  {
   "cell_type": "code",
   "execution_count": 59,
   "id": "fd317c1d",
   "metadata": {},
   "outputs": [],
   "source": [
    "pred = regr.predict(X_test)"
   ]
  },
  {
   "cell_type": "code",
   "execution_count": 60,
   "id": "2ac2d997",
   "metadata": {
    "scrolled": false
   },
   "outputs": [
    {
     "data": {
      "text/plain": [
       "array([-71.33165665, -67.59234325, -65.60484999, -67.41953836,\n",
       "       -66.93393904, -67.69501735, -65.88566574, -66.4672864 ,\n",
       "       -66.42349463, -66.68097225, -65.96376894, -68.54227814,\n",
       "       -68.28407146, -67.4534413 , -67.85791892, -66.29800519,\n",
       "       -66.96705531, -66.66362661, -69.73431348, -67.17555002,\n",
       "       -67.45022959, -66.05149784, -66.89681769, -66.62013018,\n",
       "       -67.33838374, -67.18085393, -66.70571532, -67.07968484,\n",
       "       -66.61347894, -71.0666679 , -65.16781513, -67.48122138,\n",
       "       -66.98723575, -66.62276462, -66.8018174 , -70.02926481,\n",
       "       -69.30641904, -70.11168992, -67.63758995, -69.65797225,\n",
       "       -67.90287126, -67.40135496, -66.82940807, -66.94287978,\n",
       "       -66.86601613, -67.84650967, -67.72617045, -69.74360886,\n",
       "       -67.47303728, -67.80422856, -66.72687546, -66.39063403,\n",
       "       -65.85654607, -68.16614384, -66.94352227, -65.57674054,\n",
       "       -68.03316205, -66.96034709, -66.47262735, -66.48159991,\n",
       "       -67.71529752, -69.03753331, -67.36994717, -67.13906567,\n",
       "       -67.65693788])"
      ]
     },
     "execution_count": 60,
     "metadata": {},
     "output_type": "execute_result"
    }
   ],
   "source": [
    "pred"
   ]
  },
  {
   "cell_type": "code",
   "execution_count": 33,
   "id": "685bf3e0",
   "metadata": {},
   "outputs": [
    {
     "ename": "AttributeError",
     "evalue": "'numpy.ndarray' object has no attribute 'describe'",
     "output_type": "error",
     "traceback": [
      "\u001b[0;31m---------------------------------------------------------------------------\u001b[0m",
      "\u001b[0;31mAttributeError\u001b[0m                            Traceback (most recent call last)",
      "Input \u001b[0;32mIn [33]\u001b[0m, in \u001b[0;36m<cell line: 1>\u001b[0;34m()\u001b[0m\n\u001b[0;32m----> 1\u001b[0m \u001b[43mpred\u001b[49m\u001b[38;5;241;43m.\u001b[39;49m\u001b[43mdescribe\u001b[49m()\n",
      "\u001b[0;31mAttributeError\u001b[0m: 'numpy.ndarray' object has no attribute 'describe'"
     ]
    }
   ],
   "source": [
    "pred.describe()"
   ]
  },
  {
   "cell_type": "code",
   "execution_count": 61,
   "id": "041be704",
   "metadata": {},
   "outputs": [
    {
     "data": {
      "text/plain": [
       "-67.42838628381851"
      ]
     },
     "execution_count": 61,
     "metadata": {},
     "output_type": "execute_result"
    }
   ],
   "source": [
    "pred.mean()"
   ]
  },
  {
   "cell_type": "code",
   "execution_count": 62,
   "id": "a1aabaf3",
   "metadata": {},
   "outputs": [
    {
     "ename": "SyntaxError",
     "evalue": "invalid syntax (971199683.py, line 1)",
     "output_type": "error",
     "traceback": [
      "\u001b[0;36m  Input \u001b[0;32mIn [62]\u001b[0;36m\u001b[0m\n\u001b[0;31m    regr.scI ore(X_test,y_test)\u001b[0m\n\u001b[0m             ^\u001b[0m\n\u001b[0;31mSyntaxError\u001b[0m\u001b[0;31m:\u001b[0m invalid syntax\n"
     ]
    }
   ],
   "source": [
    "regr.scI ore(X_test,y_test)"
   ]
  },
  {
   "cell_type": "code",
   "execution_count": 35,
   "id": "e4987928",
   "metadata": {},
   "outputs": [],
   "source": [
    "train = data.drop([\"latitude\",'time','depth','magType','gap','dmin','rms','net','id','updated','type','horizontalError','depthError','magNst','status','locationSource','magSource'],axis=1)"
   ]
  },
  {
   "cell_type": "code",
   "execution_count": 36,
   "id": "7c530b39",
   "metadata": {},
   "outputs": [],
   "source": [
    "test = data['latitude']"
   ]
  },
  {
   "cell_type": "code",
   "execution_count": 37,
   "id": "6fbcef90",
   "metadata": {},
   "outputs": [],
   "source": [
    "X_train,X_test,y_train,y_test = train_test_split(train,test,test_size = 0.3,random_state = 2)"
   ]
  },
  {
   "cell_type": "code",
   "execution_count": null,
   "id": "cbe08dcf",
   "metadata": {},
   "outputs": [],
   "source": []
  },
  {
   "cell_type": "code",
   "execution_count": 38,
   "id": "1898f7ce",
   "metadata": {},
   "outputs": [],
   "source": [
    "regr = LinearRegression()"
   ]
  },
  {
   "cell_type": "code",
   "execution_count": null,
   "id": "9ca86269",
   "metadata": {},
   "outputs": [],
   "source": []
  },
  {
   "cell_type": "code",
   "execution_count": 39,
   "id": "a6b3698e",
   "metadata": {},
   "outputs": [
    {
     "data": {
      "text/plain": [
       "LinearRegression()"
      ]
     },
     "execution_count": 39,
     "metadata": {},
     "output_type": "execute_result"
    }
   ],
   "source": [
    "regr.fit(X_train,y_train)"
   ]
  },
  {
   "cell_type": "code",
   "execution_count": 40,
   "id": "749eec70",
   "metadata": {},
   "outputs": [],
   "source": [
    "pred = regr.predict(X_test)"
   ]
  },
  {
   "cell_type": "code",
   "execution_count": 41,
   "id": "08681e53",
   "metadata": {},
   "outputs": [
    {
     "data": {
      "text/plain": [
       "array([40.46421124, 34.43811282, 29.28086711, 36.0551859 , 41.17459574,\n",
       "       40.11002925, 41.26186666, 28.29972829, 36.6835868 , 39.39344597,\n",
       "       34.59643706, 35.83759876, 29.53663091, 37.01284778, 36.35861616,\n",
       "       26.79400202, 36.48565742, 32.13982549, 35.89275313, 27.56637892,\n",
       "       37.93799672, 37.4671995 , 35.80584013, 41.65394212, 36.48639538,\n",
       "       36.72110381, 35.59673429, 27.72241017, 37.05052027, 27.96762985,\n",
       "       28.59514304, 41.56623992, 28.59205301, 35.49498364, 36.59827112,\n",
       "       36.64941556, 27.50855211, 36.92510971, 36.26321552, 37.35471539,\n",
       "       34.65542281, 35.70051311, 39.15432214, 34.95791891, 37.06662882,\n",
       "       28.04801548, 26.38486871, 37.24395956, 28.21034044, 35.72730447,\n",
       "       36.29625122, 36.66950533, 34.60199392, 34.25815501, 35.41133414,\n",
       "       27.41838707, 37.45943577, 37.13911874, 27.09826833, 39.1051506 ,\n",
       "       35.92100433, 36.46989456, 32.4278041 , 36.46942391, 27.17029287,\n",
       "       40.58361818, 35.22088528, 36.51142504, 37.09165242, 35.26363832,\n",
       "       37.05472196, 36.46545625, 36.27994924, 28.33891635, 35.78386993,\n",
       "       26.56984878, 37.19040717, 40.76752929, 37.45113302, 36.70714384,\n",
       "       28.37635915, 33.8153658 , 39.57741411, 35.31098644, 36.29209198,\n",
       "       36.33060572, 36.03414928, 36.27966606, 38.36580889, 38.24562747,\n",
       "       36.04901539, 39.68679882, 38.48630861, 36.16203297, 35.23779193,\n",
       "       26.53536204, 35.29971332, 32.92753647, 35.80100333, 34.11720252,\n",
       "       27.29241476, 42.64013904, 35.14442577, 35.99848877, 36.45697106,\n",
       "       34.31343662, 27.19060024, 36.48697468, 26.99019752, 27.30779668,\n",
       "       35.37803527, 40.99399304, 41.35896194, 33.00938795, 37.97603841,\n",
       "       37.31700677, 36.72371499, 27.13165791, 35.7995124 , 27.88705464,\n",
       "       35.8748386 , 36.16372835, 35.89365935, 36.10859535, 36.45756755,\n",
       "       39.91279936, 33.72757838, 43.00732546, 36.61762023, 36.22374553,\n",
       "       28.88824423, 36.73232483, 36.63375494, 40.10874199, 26.44622389,\n",
       "       27.33305412, 37.70988259, 29.07345007, 33.76156835, 36.33569807,\n",
       "       27.54112911, 41.61751711, 36.79020673, 32.61627003, 35.4587839 ,\n",
       "       35.95767911, 35.81411259, 34.11752067, 38.22061863, 27.30447986,\n",
       "       35.76603668, 41.20567758, 37.87283694, 42.69725949, 36.46485922,\n",
       "       35.84738304, 26.57876654, 35.08816107, 38.20127182, 36.40972813,\n",
       "       35.07723901, 35.62841978, 36.62727991, 39.72890039, 36.91912537,\n",
       "       36.66641455, 36.18495142, 36.41197716, 37.09752309, 38.20344261,\n",
       "       35.20662804, 40.86960079, 40.61602103, 36.88710577, 36.80340802,\n",
       "       28.13708445, 38.23974499, 36.22035814, 35.18700354, 39.66640644,\n",
       "       36.48854599, 34.7460735 , 27.63799274, 36.46369584, 35.57057228,\n",
       "       36.65021413, 27.79868625, 27.36340733, 37.21881783, 37.2283404 ,\n",
       "       41.00289117, 41.19423166, 36.82131399, 39.52016733, 38.02838052,\n",
       "       26.81397199, 35.9314257 , 35.69899848, 27.99205114, 37.04988792,\n",
       "       36.31941179, 36.12940366, 36.82999656, 35.99507085, 32.11898096,\n",
       "       35.91580489, 33.47674579, 38.78468086, 38.3840795 , 36.63368501,\n",
       "       37.25916627, 35.71120813, 41.17240951, 36.90396641, 37.00611066,\n",
       "       36.81261004, 36.99870363, 35.54638421, 28.68373683, 39.04687316,\n",
       "       36.02845078, 37.08248191, 40.96255962, 36.92713708, 38.22553205,\n",
       "       35.85164423, 27.03450747, 43.10201635, 37.04519114, 41.82704224,\n",
       "       38.99504419, 37.55956802, 36.45447324, 35.80774003, 34.73267821,\n",
       "       36.25844956, 28.32665591, 26.27349705, 36.38776778, 36.56454974,\n",
       "       36.42375033, 33.68018382, 31.5445766 , 28.52745622, 26.53233834,\n",
       "       37.2328758 , 27.8339989 , 36.35679366, 36.90163287, 38.79181742,\n",
       "       27.83755941, 29.19501719, 37.64859153, 38.9924398 , 30.6907681 ,\n",
       "       36.64979033, 33.8439333 , 36.95510715, 27.14257989, 37.18631014,\n",
       "       35.76358948, 37.75690855, 36.88617689, 32.01189056, 36.32157372,\n",
       "       37.56086319, 27.36978587, 36.72558868, 35.66054146, 37.25898283,\n",
       "       36.34354918, 36.55253826, 27.0089132 , 26.4022461 , 37.64587987,\n",
       "       36.89077992, 28.33366776, 37.47540709, 39.64872554, 27.48835543,\n",
       "       36.86858835, 41.5267645 , 35.21899136, 35.15663862, 27.34009252,\n",
       "       34.95962691, 35.27412234, 36.3350765 , 36.22784032, 25.81920596,\n",
       "       26.68866176, 37.36305727, 28.98665393, 36.06261016, 35.90665688,\n",
       "       40.88279517, 35.9208645 , 35.14219032, 35.17422809, 34.19361605,\n",
       "       28.28371132, 36.51550159, 27.54015583, 36.56851178, 33.39572802,\n",
       "       27.62114184, 36.73080326, 35.08480776, 28.24742041, 36.98460106,\n",
       "       28.52438544, 37.77906854, 37.38532949, 35.25759385, 28.92793083,\n",
       "       35.93326502, 36.94628981, 37.1551299 , 36.33951072, 41.97112668,\n",
       "       37.80602718, 35.55782895, 36.17443021, 37.18487686, 26.56741863,\n",
       "       27.13764746, 36.66023917, 35.2157421 , 36.33650874, 35.92643706,\n",
       "       35.21650662, 36.75251443, 33.64535477, 37.12438417, 37.1745484 ,\n",
       "       38.38715361, 36.86415271, 36.40274071, 37.72364219, 37.17052434,\n",
       "       34.83072392, 36.12752194, 35.18091189, 39.31622671, 36.83943543,\n",
       "       37.54773507, 34.89813486, 35.77387888, 36.92303934, 36.61650696,\n",
       "       40.0673313 , 33.96411757, 35.88452103, 34.90710441, 36.36973433,\n",
       "       28.85293284, 37.10236834, 35.63435351, 33.34906618, 36.25468527,\n",
       "       33.13208781, 35.07205166, 35.34335745, 41.79201359, 35.63402636,\n",
       "       27.17045983, 35.47017276, 36.41995447, 27.85168055, 36.34636071,\n",
       "       34.77531522, 35.64225458, 37.42168532, 28.8215324 , 39.85028957,\n",
       "       35.7185004 , 33.69195249, 37.40350072, 38.05712933, 41.31025159,\n",
       "       29.57612596, 37.68452402, 35.34329977, 35.97506968, 41.29938295,\n",
       "       37.71168753, 34.78472743, 27.7383938 , 27.78098243, 25.67864497,\n",
       "       34.86154258, 39.40116989, 37.60445414, 36.74337332, 34.40502021,\n",
       "       41.60849485, 38.38180765, 38.8377013 , 32.15376044, 36.41463692,\n",
       "       36.83392437, 38.08604297, 35.38467832, 35.49533903, 34.99421471,\n",
       "       36.73362769, 37.57497089, 34.29163539, 38.20049669, 37.09158865,\n",
       "       38.79901634, 40.24211026, 35.57746117, 35.96715162, 35.74356791,\n",
       "       39.56117889, 35.77302874, 35.94087357, 35.8703657 , 36.54587479,\n",
       "       28.51401663, 37.68075128, 36.04971283, 37.17347116, 36.60770897,\n",
       "       36.28576932, 36.0297832 , 26.70125576, 28.56160263, 35.74783629,\n",
       "       34.63653752, 36.1113033 , 32.56193135, 37.92453284, 36.77575251,\n",
       "       27.0593225 , 39.29663115, 40.75932428, 27.37577339, 28.04173666,\n",
       "       35.40427724, 35.86475858, 35.99830554, 34.49431245, 35.93998993,\n",
       "       36.46554205, 36.7673722 , 35.56408246, 29.44622695, 36.66268205,\n",
       "       35.54645075, 34.92057053, 36.04519826, 36.27009972, 37.7259907 ,\n",
       "       42.25126527, 36.17054775, 36.80162574, 41.53412344, 37.3186347 ,\n",
       "       34.56490385, 42.54137552, 36.59941878, 31.91546877, 35.15978077,\n",
       "       26.24365299, 37.74204648, 36.46785451, 37.21549709, 36.4479739 ,\n",
       "       36.22580433, 35.37144884, 36.35925614, 36.35419521, 34.42563124,\n",
       "       36.79252739, 28.68629634, 35.54558231, 37.12241098, 36.03960068,\n",
       "       35.3798002 , 37.19946715, 28.9762221 , 36.07613952, 37.2117753 ,\n",
       "       35.0266432 , 28.78737795, 35.4924859 , 36.31269097, 38.91903403,\n",
       "       34.16002552, 36.97741682, 36.21211255, 28.48125776, 38.70430571,\n",
       "       36.95199358, 38.24302476, 27.77395872, 41.35751816, 36.53116842,\n",
       "       36.41817723, 28.10226249, 36.54412224, 35.0930506 , 26.88850264,\n",
       "       34.23808954, 42.11956657, 35.67360141, 36.3307057 , 27.5464884 ,\n",
       "       35.22066005, 28.27886634, 32.40979925, 36.65329183, 26.594304  ,\n",
       "       27.81324106, 37.77942275, 24.67605166, 36.42418508, 36.9416916 ,\n",
       "       35.63163192, 32.2397087 , 37.49496767, 36.47769804, 40.19724173,\n",
       "       36.94869046, 35.4168632 , 36.97374039, 36.50431614, 35.10376207,\n",
       "       27.57055873, 40.61617149, 36.56045947, 36.65172386, 25.87155278,\n",
       "       27.10201689, 42.15213047, 33.95965585, 27.10843919, 34.90888498,\n",
       "       35.40355843, 36.43394508, 35.28920613, 38.22525374, 35.6448218 ,\n",
       "       37.03530083, 42.66266129, 29.20653817, 27.55097514, 28.5558996 ,\n",
       "       35.38149038, 37.24963999, 36.92006822, 36.00815429, 36.54855115,\n",
       "       39.02290979, 37.3923146 , 37.13108889, 38.92996879, 28.41550222,\n",
       "       36.22978559, 36.58389707, 36.38399979, 36.88995594, 40.97388139,\n",
       "       36.33001705, 37.76245327, 34.86411948, 35.14432708, 33.74671226,\n",
       "       34.27480786, 35.79807009, 36.86392111, 41.73726842, 34.2627455 ,\n",
       "       35.7520965 , 37.170889  , 35.3023238 , 37.84813766, 36.55694611,\n",
       "       35.34460946, 26.50412976, 27.89487473, 36.89771982, 35.74145215,\n",
       "       27.27401085, 36.71689638, 31.80045448, 35.86147428, 36.90582184,\n",
       "       38.39199851, 37.71410256, 36.12791857, 33.56113681, 33.81390043,\n",
       "       36.53821003, 40.99931775, 36.03470869, 40.57813874, 37.62081616,\n",
       "       37.19899911, 36.18162516, 42.67170369, 35.89405875, 35.52870815,\n",
       "       36.51646858, 26.95932208, 36.39967275, 35.49820151, 38.21301906,\n",
       "       38.88866874, 38.08844214, 26.58802991, 35.8778074 , 36.32090079,\n",
       "       27.16012482, 37.06369277, 40.45267936, 26.68096873, 34.39841294,\n",
       "       37.41796329, 33.25506691, 32.43912324, 35.06155299, 27.42758757,\n",
       "       35.42206341, 26.73905143, 27.4159823 , 41.48575692, 36.521097  ,\n",
       "       36.74293737, 37.05517358, 36.95464679, 36.02577052, 34.75649035,\n",
       "       27.25710771, 35.56778377, 34.76008143, 28.3628695 , 36.7792108 ,\n",
       "       33.00069654, 27.2672665 , 37.0131517 , 34.25625795, 27.77190133,\n",
       "       27.54090294, 36.11689851, 39.86992327, 37.20408746, 36.00322162,\n",
       "       34.9855064 , 37.48969474, 35.26682789, 34.35588786, 26.94196547,\n",
       "       36.690826  , 26.71015704, 35.042315  , 26.96155836, 37.93301915,\n",
       "       37.01113222, 36.523224  , 40.82991718, 35.91677991, 39.9748839 ,\n",
       "       33.97798648, 36.58315063, 34.30864002, 34.89620414, 37.25902689,\n",
       "       34.50810499, 36.02498589, 33.75700744, 26.89627471, 36.62558378,\n",
       "       36.48213526, 34.20249797, 35.72976215, 38.91257679, 38.36509575,\n",
       "       35.99777448, 33.70155029, 41.73629269, 36.5847653 , 37.28244227,\n",
       "       37.68072721, 36.90280129, 32.57835532, 36.94645132, 36.86974543,\n",
       "       37.34241323, 26.48648195, 36.4128942 , 36.32839195, 34.93121635,\n",
       "       30.99326752, 27.22266641, 36.82719423, 36.37467511, 34.9206715 ,\n",
       "       36.5966419 , 34.88911734, 35.40951277, 36.28226353, 34.59258705,\n",
       "       35.80634522, 39.96752154, 33.04903584, 37.04134817, 38.8115012 ,\n",
       "       26.61585738, 37.47102803, 33.26896235, 34.86527284, 29.99612529,\n",
       "       35.66723372, 36.90679327, 40.33718557, 35.34783953, 26.69105658,\n",
       "       35.89064686, 36.47205243, 42.12548423, 36.58472385, 39.96050448,\n",
       "       35.98400012, 38.42141297, 35.83785804, 35.97606801, 36.7766197 ,\n",
       "       34.28156229, 35.74183495, 36.99721406, 40.785044  , 36.98765387,\n",
       "       36.38994373, 37.35449223, 34.68158869, 29.58257236, 30.41662976,\n",
       "       37.4017124 , 34.76777698, 36.47683187, 35.5805145 , 35.69045949,\n",
       "       35.18010884, 40.64235212, 33.84897129, 37.04270129, 34.7819291 ,\n",
       "       26.37126691, 33.01151446, 26.49087299, 36.6797954 , 37.85619029,\n",
       "       34.0407813 , 35.80200615, 28.67220048, 36.69143385, 27.78194729,\n",
       "       34.07103692])"
      ]
     },
     "execution_count": 41,
     "metadata": {},
     "output_type": "execute_result"
    }
   ],
   "source": [
    "pred\n"
   ]
  },
  {
   "cell_type": "code",
   "execution_count": 42,
   "id": "94f42c8f",
   "metadata": {},
   "outputs": [
    {
     "data": {
      "text/plain": [
       "35.105902306243934"
      ]
     },
     "execution_count": 42,
     "metadata": {},
     "output_type": "execute_result"
    }
   ],
   "source": [
    "pred.mean()"
   ]
  },
  {
   "cell_type": "code",
   "execution_count": 43,
   "id": "41fcbb17",
   "metadata": {},
   "outputs": [
    {
     "data": {
      "text/plain": [
       "0.42951151319426173"
      ]
     },
     "execution_count": 43,
     "metadata": {},
     "output_type": "execute_result"
    }
   ],
   "source": [
    "regr.score(X_test,y_test)"
   ]
  },
  {
   "cell_type": "code",
   "execution_count": 44,
   "id": "68a08bb1",
   "metadata": {},
   "outputs": [],
   "source": [
    "train = data.drop([\"longitude\",'time','depth','magType','gap','dmin','rms','net','id','updated','type','horizontalError','depthError','magNst','status','locationSource','magSource'],axis=1)"
   ]
  },
  {
   "cell_type": "code",
   "execution_count": 45,
   "id": "317d9320",
   "metadata": {},
   "outputs": [],
   "source": [
    "test = data['longitude']"
   ]
  },
  {
   "cell_type": "code",
   "execution_count": 46,
   "id": "4966cb3a",
   "metadata": {},
   "outputs": [],
   "source": [
    "X_train,X_test,y_train,y_test = train_test_split(train,test,test_size = 0.3,random_state = 2)"
   ]
  },
  {
   "cell_type": "code",
   "execution_count": 1,
   "id": "566af939",
   "metadata": {},
   "outputs": [
    {
     "ename": "NameError",
     "evalue": "name 'pd' is not defined",
     "output_type": "error",
     "traceback": [
      "\u001b[0;31m---------------------------------------------------------------------------\u001b[0m",
      "\u001b[0;31mNameError\u001b[0m                                 Traceback (most recent call last)",
      "Input \u001b[0;32mIn [1]\u001b[0m, in \u001b[0;36m<cell line: 1>\u001b[0;34m()\u001b[0m\n\u001b[0;32m----> 1\u001b[0m data \u001b[38;5;241m=\u001b[39m \u001b[43mpd\u001b[49m\u001b[38;5;241m.\u001b[39mread_csv(\u001b[38;5;124m\"\u001b[39m\u001b[38;5;124m/Users/harmansahota/Desktop/life/prediction/haiti.csv\u001b[39m\u001b[38;5;124m\"\u001b[39m)\n",
      "\u001b[0;31mNameError\u001b[0m: name 'pd' is not defined"
     ]
    }
   ],
   "source": [
    "data = pd.read_csv(\"/Users/harmansahota/Desktop/life/prediction/haiti.csv\")\n",
    "\n"
   ]
  },
  {
   "cell_type": "code",
   "execution_count": 2,
   "id": "e754ab33",
   "metadata": {},
   "outputs": [],
   "source": [
    "#installing dependencies\n",
    "import pandas as pd\n",
    "import seaborn as sns\n",
    "import numpy as np"
   ]
  },
  {
   "cell_type": "code",
   "execution_count": 3,
   "id": "93a7acee",
   "metadata": {},
   "outputs": [],
   "source": [
    "data = pd.read_csv(\"/Users/harmansahota/Desktop/life/prediction/haiti.csv\")\n",
    "\n"
   ]
  },
  {
   "cell_type": "code",
   "execution_count": 4,
   "id": "9d413f21",
   "metadata": {},
   "outputs": [
    {
     "data": {
      "text/html": [
       "<div>\n",
       "<style scoped>\n",
       "    .dataframe tbody tr th:only-of-type {\n",
       "        vertical-align: middle;\n",
       "    }\n",
       "\n",
       "    .dataframe tbody tr th {\n",
       "        vertical-align: top;\n",
       "    }\n",
       "\n",
       "    .dataframe thead th {\n",
       "        text-align: right;\n",
       "    }\n",
       "</style>\n",
       "<table border=\"1\" class=\"dataframe\">\n",
       "  <thead>\n",
       "    <tr style=\"text-align: right;\">\n",
       "      <th></th>\n",
       "      <th>time</th>\n",
       "      <th>latitude</th>\n",
       "      <th>longitude</th>\n",
       "      <th>depth</th>\n",
       "      <th>mag</th>\n",
       "      <th>magType</th>\n",
       "      <th>nst</th>\n",
       "      <th>gap</th>\n",
       "      <th>dmin</th>\n",
       "      <th>rms</th>\n",
       "      <th>...</th>\n",
       "      <th>updated</th>\n",
       "      <th>place</th>\n",
       "      <th>type</th>\n",
       "      <th>horizontalError</th>\n",
       "      <th>depthError</th>\n",
       "      <th>magError</th>\n",
       "      <th>magNst</th>\n",
       "      <th>status</th>\n",
       "      <th>locationSource</th>\n",
       "      <th>magSource</th>\n",
       "    </tr>\n",
       "  </thead>\n",
       "  <tbody>\n",
       "    <tr>\n",
       "      <th>0</th>\n",
       "      <td>2021-08-16T04:35:51.680Z</td>\n",
       "      <td>17.8435</td>\n",
       "      <td>-66.8898</td>\n",
       "      <td>12.00</td>\n",
       "      <td>2.57</td>\n",
       "      <td>md</td>\n",
       "      <td>17.0</td>\n",
       "      <td>231</td>\n",
       "      <td>0.1993</td>\n",
       "      <td>0.21</td>\n",
       "      <td>...</td>\n",
       "      <td>2021-08-16T05:00:30.524Z</td>\n",
       "      <td>14 km S of Guánica, Puerto Rico</td>\n",
       "      <td>earthquake</td>\n",
       "      <td>0.73</td>\n",
       "      <td>0.55</td>\n",
       "      <td>0.170</td>\n",
       "      <td>7</td>\n",
       "      <td>reviewed</td>\n",
       "      <td>pr</td>\n",
       "      <td>pr</td>\n",
       "    </tr>\n",
       "    <tr>\n",
       "      <th>1</th>\n",
       "      <td>2021-08-16T01:33:40.550Z</td>\n",
       "      <td>17.9775</td>\n",
       "      <td>-66.7873</td>\n",
       "      <td>17.00</td>\n",
       "      <td>2.56</td>\n",
       "      <td>md</td>\n",
       "      <td>14.0</td>\n",
       "      <td>179</td>\n",
       "      <td>0.1925</td>\n",
       "      <td>0.15</td>\n",
       "      <td>...</td>\n",
       "      <td>2021-08-16T06:14:16.458Z</td>\n",
       "      <td>3 km ESE of Indios, Puerto Rico</td>\n",
       "      <td>earthquake</td>\n",
       "      <td>0.46</td>\n",
       "      <td>0.34</td>\n",
       "      <td>0.170</td>\n",
       "      <td>5</td>\n",
       "      <td>reviewed</td>\n",
       "      <td>pr</td>\n",
       "      <td>pr</td>\n",
       "    </tr>\n",
       "    <tr>\n",
       "      <th>2</th>\n",
       "      <td>2021-08-15T22:10:12.050Z</td>\n",
       "      <td>17.9833</td>\n",
       "      <td>-66.7738</td>\n",
       "      <td>11.00</td>\n",
       "      <td>2.75</td>\n",
       "      <td>md</td>\n",
       "      <td>17.0</td>\n",
       "      <td>175</td>\n",
       "      <td>0.1778</td>\n",
       "      <td>0.12</td>\n",
       "      <td>...</td>\n",
       "      <td>2021-08-16T00:56:25.321Z</td>\n",
       "      <td>3 km S of Magas Arriba, Puerto Rico</td>\n",
       "      <td>earthquake</td>\n",
       "      <td>0.43</td>\n",
       "      <td>0.31</td>\n",
       "      <td>0.290</td>\n",
       "      <td>8</td>\n",
       "      <td>reviewed</td>\n",
       "      <td>pr</td>\n",
       "      <td>pr</td>\n",
       "    </tr>\n",
       "    <tr>\n",
       "      <th>3</th>\n",
       "      <td>2021-08-15T21:38:27.410Z</td>\n",
       "      <td>18.2806</td>\n",
       "      <td>-68.0030</td>\n",
       "      <td>103.00</td>\n",
       "      <td>3.64</td>\n",
       "      <td>md</td>\n",
       "      <td>11.0</td>\n",
       "      <td>156</td>\n",
       "      <td>0.4445</td>\n",
       "      <td>0.21</td>\n",
       "      <td>...</td>\n",
       "      <td>2021-08-16T06:21:13.582Z</td>\n",
       "      <td>53 km SE of Punta Cana, Dominican Republic</td>\n",
       "      <td>earthquake</td>\n",
       "      <td>2.06</td>\n",
       "      <td>1.20</td>\n",
       "      <td>0.010</td>\n",
       "      <td>3</td>\n",
       "      <td>reviewed</td>\n",
       "      <td>pr</td>\n",
       "      <td>pr</td>\n",
       "    </tr>\n",
       "    <tr>\n",
       "      <th>4</th>\n",
       "      <td>2021-08-15T16:05:05.782Z</td>\n",
       "      <td>18.5392</td>\n",
       "      <td>-73.5810</td>\n",
       "      <td>12.04</td>\n",
       "      <td>4.10</td>\n",
       "      <td>mb</td>\n",
       "      <td>NaN</td>\n",
       "      <td>95</td>\n",
       "      <td>1.7390</td>\n",
       "      <td>0.49</td>\n",
       "      <td>...</td>\n",
       "      <td>2021-08-15T17:08:23.040Z</td>\n",
       "      <td>7 km WNW of Petit Trou de Nippes, Haiti</td>\n",
       "      <td>earthquake</td>\n",
       "      <td>4.20</td>\n",
       "      <td>6.30</td>\n",
       "      <td>0.212</td>\n",
       "      <td>6</td>\n",
       "      <td>reviewed</td>\n",
       "      <td>us</td>\n",
       "      <td>us</td>\n",
       "    </tr>\n",
       "  </tbody>\n",
       "</table>\n",
       "<p>5 rows × 22 columns</p>\n",
       "</div>"
      ],
      "text/plain": [
       "                       time  latitude  longitude   depth   mag magType   nst  \\\n",
       "0  2021-08-16T04:35:51.680Z   17.8435   -66.8898   12.00  2.57      md  17.0   \n",
       "1  2021-08-16T01:33:40.550Z   17.9775   -66.7873   17.00  2.56      md  14.0   \n",
       "2  2021-08-15T22:10:12.050Z   17.9833   -66.7738   11.00  2.75      md  17.0   \n",
       "3  2021-08-15T21:38:27.410Z   18.2806   -68.0030  103.00  3.64      md  11.0   \n",
       "4  2021-08-15T16:05:05.782Z   18.5392   -73.5810   12.04  4.10      mb   NaN   \n",
       "\n",
       "   gap    dmin   rms  ...                   updated  \\\n",
       "0  231  0.1993  0.21  ...  2021-08-16T05:00:30.524Z   \n",
       "1  179  0.1925  0.15  ...  2021-08-16T06:14:16.458Z   \n",
       "2  175  0.1778  0.12  ...  2021-08-16T00:56:25.321Z   \n",
       "3  156  0.4445  0.21  ...  2021-08-16T06:21:13.582Z   \n",
       "4   95  1.7390  0.49  ...  2021-08-15T17:08:23.040Z   \n",
       "\n",
       "                                        place        type horizontalError  \\\n",
       "0             14 km S of Guánica, Puerto Rico  earthquake            0.73   \n",
       "1             3 km ESE of Indios, Puerto Rico  earthquake            0.46   \n",
       "2         3 km S of Magas Arriba, Puerto Rico  earthquake            0.43   \n",
       "3  53 km SE of Punta Cana, Dominican Republic  earthquake            2.06   \n",
       "4     7 km WNW of Petit Trou de Nippes, Haiti  earthquake            4.20   \n",
       "\n",
       "  depthError  magError  magNst    status  locationSource magSource  \n",
       "0       0.55     0.170       7  reviewed              pr        pr  \n",
       "1       0.34     0.170       5  reviewed              pr        pr  \n",
       "2       0.31     0.290       8  reviewed              pr        pr  \n",
       "3       1.20     0.010       3  reviewed              pr        pr  \n",
       "4       6.30     0.212       6  reviewed              us        us  \n",
       "\n",
       "[5 rows x 22 columns]"
      ]
     },
     "execution_count": 4,
     "metadata": {},
     "output_type": "execute_result"
    }
   ],
   "source": [
    "data.head()\n"
   ]
  },
  {
   "cell_type": "code",
   "execution_count": 63,
   "id": "12e9bf32",
   "metadata": {},
   "outputs": [
    {
     "data": {
      "text/html": [
       "<div>\n",
       "<style scoped>\n",
       "    .dataframe tbody tr th:only-of-type {\n",
       "        vertical-align: middle;\n",
       "    }\n",
       "\n",
       "    .dataframe tbody tr th {\n",
       "        vertical-align: top;\n",
       "    }\n",
       "\n",
       "    .dataframe thead th {\n",
       "        text-align: right;\n",
       "    }\n",
       "</style>\n",
       "<table border=\"1\" class=\"dataframe\">\n",
       "  <thead>\n",
       "    <tr style=\"text-align: right;\">\n",
       "      <th></th>\n",
       "      <th>time</th>\n",
       "      <th>latitude</th>\n",
       "      <th>longitude</th>\n",
       "      <th>depth</th>\n",
       "      <th>mag</th>\n",
       "      <th>magType</th>\n",
       "      <th>gap</th>\n",
       "      <th>dmin</th>\n",
       "      <th>rms</th>\n",
       "      <th>net</th>\n",
       "      <th>id</th>\n",
       "      <th>updated</th>\n",
       "      <th>type</th>\n",
       "      <th>horizontalError</th>\n",
       "      <th>depthError</th>\n",
       "      <th>magError</th>\n",
       "      <th>magNst</th>\n",
       "      <th>status</th>\n",
       "      <th>locationSource</th>\n",
       "      <th>magSource</th>\n",
       "    </tr>\n",
       "  </thead>\n",
       "  <tbody>\n",
       "    <tr>\n",
       "      <th>210</th>\n",
       "      <td>2021-07-18T02:55:39.660Z</td>\n",
       "      <td>18.0571</td>\n",
       "      <td>-66.7930</td>\n",
       "      <td>11.0</td>\n",
       "      <td>3.12</td>\n",
       "      <td>md</td>\n",
       "      <td>98</td>\n",
       "      <td>0.1873</td>\n",
       "      <td>0.16</td>\n",
       "      <td>pr</td>\n",
       "      <td>pr2021199000</td>\n",
       "      <td>2021-07-18T04:57:29.510Z</td>\n",
       "      <td>earthquake</td>\n",
       "      <td>0.30</td>\n",
       "      <td>0.48</td>\n",
       "      <td>0.14</td>\n",
       "      <td>3</td>\n",
       "      <td>reviewed</td>\n",
       "      <td>pr</td>\n",
       "      <td>pr</td>\n",
       "    </tr>\n",
       "    <tr>\n",
       "      <th>211</th>\n",
       "      <td>2021-07-17T16:48:18.350Z</td>\n",
       "      <td>17.9243</td>\n",
       "      <td>-66.9268</td>\n",
       "      <td>10.0</td>\n",
       "      <td>2.90</td>\n",
       "      <td>md</td>\n",
       "      <td>215</td>\n",
       "      <td>0.1258</td>\n",
       "      <td>0.14</td>\n",
       "      <td>pr</td>\n",
       "      <td>pr2021198007</td>\n",
       "      <td>2021-07-17T17:38:14.225Z</td>\n",
       "      <td>earthquake</td>\n",
       "      <td>0.51</td>\n",
       "      <td>0.64</td>\n",
       "      <td>0.27</td>\n",
       "      <td>13</td>\n",
       "      <td>reviewed</td>\n",
       "      <td>pr</td>\n",
       "      <td>pr</td>\n",
       "    </tr>\n",
       "    <tr>\n",
       "      <th>212</th>\n",
       "      <td>2021-07-17T13:24:00.800Z</td>\n",
       "      <td>18.2090</td>\n",
       "      <td>-67.2168</td>\n",
       "      <td>101.0</td>\n",
       "      <td>3.15</td>\n",
       "      <td>md</td>\n",
       "      <td>154</td>\n",
       "      <td>0.0724</td>\n",
       "      <td>0.28</td>\n",
       "      <td>pr</td>\n",
       "      <td>pr2021198005</td>\n",
       "      <td>2021-07-17T14:43:46.420Z</td>\n",
       "      <td>earthquake</td>\n",
       "      <td>1.72</td>\n",
       "      <td>0.89</td>\n",
       "      <td>0.14</td>\n",
       "      <td>13</td>\n",
       "      <td>reviewed</td>\n",
       "      <td>pr</td>\n",
       "      <td>pr</td>\n",
       "    </tr>\n",
       "    <tr>\n",
       "      <th>213</th>\n",
       "      <td>2021-07-17T05:06:52.430Z</td>\n",
       "      <td>19.6276</td>\n",
       "      <td>-63.5315</td>\n",
       "      <td>41.0</td>\n",
       "      <td>3.99</td>\n",
       "      <td>md</td>\n",
       "      <td>340</td>\n",
       "      <td>2.1929</td>\n",
       "      <td>0.24</td>\n",
       "      <td>pr</td>\n",
       "      <td>pr2021198004</td>\n",
       "      <td>2021-08-04T05:41:42.040Z</td>\n",
       "      <td>earthquake</td>\n",
       "      <td>2.98</td>\n",
       "      <td>19.17</td>\n",
       "      <td>0.06</td>\n",
       "      <td>4</td>\n",
       "      <td>reviewed</td>\n",
       "      <td>pr</td>\n",
       "      <td>pr</td>\n",
       "    </tr>\n",
       "    <tr>\n",
       "      <th>214</th>\n",
       "      <td>2021-07-17T02:43:34.920Z</td>\n",
       "      <td>17.9451</td>\n",
       "      <td>-66.8485</td>\n",
       "      <td>12.0</td>\n",
       "      <td>2.72</td>\n",
       "      <td>md</td>\n",
       "      <td>200</td>\n",
       "      <td>0.1972</td>\n",
       "      <td>0.09</td>\n",
       "      <td>pr</td>\n",
       "      <td>pr2021198000</td>\n",
       "      <td>2021-07-17T03:38:03.547Z</td>\n",
       "      <td>earthquake</td>\n",
       "      <td>0.48</td>\n",
       "      <td>0.46</td>\n",
       "      <td>0.07</td>\n",
       "      <td>6</td>\n",
       "      <td>reviewed</td>\n",
       "      <td>pr</td>\n",
       "      <td>pr</td>\n",
       "    </tr>\n",
       "  </tbody>\n",
       "</table>\n",
       "</div>"
      ],
      "text/plain": [
       "                         time  latitude  longitude  depth   mag magType  gap  \\\n",
       "210  2021-07-18T02:55:39.660Z   18.0571   -66.7930   11.0  3.12      md   98   \n",
       "211  2021-07-17T16:48:18.350Z   17.9243   -66.9268   10.0  2.90      md  215   \n",
       "212  2021-07-17T13:24:00.800Z   18.2090   -67.2168  101.0  3.15      md  154   \n",
       "213  2021-07-17T05:06:52.430Z   19.6276   -63.5315   41.0  3.99      md  340   \n",
       "214  2021-07-17T02:43:34.920Z   17.9451   -66.8485   12.0  2.72      md  200   \n",
       "\n",
       "       dmin   rms net            id                   updated        type  \\\n",
       "210  0.1873  0.16  pr  pr2021199000  2021-07-18T04:57:29.510Z  earthquake   \n",
       "211  0.1258  0.14  pr  pr2021198007  2021-07-17T17:38:14.225Z  earthquake   \n",
       "212  0.0724  0.28  pr  pr2021198005  2021-07-17T14:43:46.420Z  earthquake   \n",
       "213  2.1929  0.24  pr  pr2021198004  2021-08-04T05:41:42.040Z  earthquake   \n",
       "214  0.1972  0.09  pr  pr2021198000  2021-07-17T03:38:03.547Z  earthquake   \n",
       "\n",
       "     horizontalError  depthError  magError  magNst    status locationSource  \\\n",
       "210             0.30        0.48      0.14       3  reviewed             pr   \n",
       "211             0.51        0.64      0.27      13  reviewed             pr   \n",
       "212             1.72        0.89      0.14      13  reviewed             pr   \n",
       "213             2.98       19.17      0.06       4  reviewed             pr   \n",
       "214             0.48        0.46      0.07       6  reviewed             pr   \n",
       "\n",
       "    magSource  \n",
       "210        pr  \n",
       "211        pr  \n",
       "212        pr  \n",
       "213        pr  \n",
       "214        pr  "
      ]
     },
     "execution_count": 63,
     "metadata": {},
     "output_type": "execute_result"
    }
   ],
   "source": [
    "data.tail()\n"
   ]
  },
  {
   "cell_type": "code",
   "execution_count": null,
   "id": "8599b340",
   "metadata": {},
   "outputs": [],
   "source": []
  }
 ],
 "metadata": {
  "kernelspec": {
   "display_name": "Python 3 (ipykernel)",
   "language": "python",
   "name": "python3"
  },
  "language_info": {
   "codemirror_mode": {
    "name": "ipython",
    "version": 3
   },
   "file_extension": ".py",
   "mimetype": "text/x-python",
   "name": "python",
   "nbconvert_exporter": "python",
   "pygments_lexer": "ipython3",
   "version": "3.9.10"
  }
 },
 "nbformat": 4,
 "nbformat_minor": 5
}
